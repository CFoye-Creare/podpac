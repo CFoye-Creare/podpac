{
 "cells": [
  {
   "cell_type": "markdown",
   "metadata": {},
   "source": [
    "# Traitlets Tutorial\n",
    "This tutorial shows how the Python package `traitlets` is used by PODPAC developers to make nodes. The same style should be used by new node developers."
   ]
  },
  {
   "cell_type": "code",
   "execution_count": 34,
   "metadata": {},
   "outputs": [],
   "source": [
    "import podpac\n",
    "import traitlets as tl  # We use the shortform 'tl'"
   ]
  },
  {
   "cell_type": "markdown",
   "metadata": {},
   "source": [
    "\n",
    "# A short, full-featured example"
   ]
  },
  {
   "cell_type": "code",
   "execution_count": null,
   "metadata": {},
   "outputs": [],
   "source": [
    "# Comment CODE!\n",
    "class MyNode(podpac.Node):\n",
    "    input = tl.Instance(podpac.algorithm.CoordData)\n",
    "    pipeline_attr = tl.Unicode().tag(attr=True)\n",
    "    scale = tl.Float().tag(attr=True)\n",
    "    _other_attr = tl.Float(default_value=-1)\n",
    "        \n",
    "    @tl.default('pipeline_attr')\n",
    "    def _default_pipeline_attr(self):\n",
    "        return 'time'\n",
    "    \n",
    "    @tl.default('scale')\n",
    "    def _default_scale(self):\n",
    "        return self._other_attr ** 2\n",
    "    \n",
    "    @tl.observe('pipline_attr')\n",
    "    def _modify_coord_data_dim(self, change):\n",
    "        self.input.coord_name = change['new']\n",
    "        \n",
    "    def execute(self, coordinates, output=None, method=None):\n",
    "        o = self.input.execute(coordinates)\n",
    "        return o*scale\n",
    "    "
   ]
  },
  {
   "cell_type": "markdown",
   "metadata": {},
   "source": [
    "# Trailets Basics\n",
    "Traitlets is a pure Python library used to add `traits` or `typing` back into Python. Python is inherently a `type-less` language, and relies or so-called `duck-typing` to determine the type of a variable. For example, Python does not discriminate between a string and an integer or a float. Traitlets allows Python programmers to ensure that their class attributes have the correct type. \n",
    "\n",
    "Among `traitlets` features, PODPAC uses the:\n",
    "* Typing of class attributes\n",
    "    * This includes simple Typing (Int, Float, Unicode, Dict, etc.)\n",
    "    * But also more complex typing (correct instance of a class, with the correct dimensions, etc.).\n",
    "* Ability to set defaults for attributes\n",
    "* Tagging of class attributes\n",
    "* Observing a class attribute for changes \n",
    "\n",
    "## Creating a traited class"
   ]
  },
  {
   "cell_type": "code",
   "execution_count": 9,
   "metadata": {},
   "outputs": [],
   "source": [
    "# Define the class\n",
    "class MyClass(tl.HasTraits):\n",
    "    floating_point = tl.Float()\n",
    "    integer = tl.Int()\n",
    "    string = tl.Unicode()\n",
    "\n",
    "    # Shortcut function used to print values of the class\n",
    "    def __repr__(self):\n",
    "        print_str = []\n",
    "        for name in self.trait_names():\n",
    "            print_str.append(name + ': ' + str(getattr(self, name)))\n",
    "        return '\\n'.join(print_str)\n",
    "    \n",
    "# Create an instance of the class\n",
    "my_class = MyClass()"
   ]
  },
  {
   "cell_type": "code",
   "execution_count": 10,
   "metadata": {},
   "outputs": [
    {
     "data": {
      "text/plain": [
       "floating_point: 0.0\n",
       "integer: 0\n",
       "string: "
      ]
     },
     "execution_count": 10,
     "metadata": {},
     "output_type": "execute_result"
    }
   ],
   "source": [
    "# Traits have defaults\n",
    "my_class"
   ]
  },
  {
   "cell_type": "code",
   "execution_count": 11,
   "metadata": {},
   "outputs": [
    {
     "data": {
      "text/plain": [
       "floating_point: 2.1\n",
       "integer: 1\n",
       "string: abc"
      ]
     },
     "execution_count": 11,
     "metadata": {},
     "output_type": "execute_result"
    }
   ],
   "source": [
    "# We can assign values to the traits that match their type\n",
    "my_class.integer = 1\n",
    "my_class.floating_point = 2.1\n",
    "my_class.string = 'abc'\n",
    "my_class"
   ]
  },
  {
   "cell_type": "code",
   "execution_count": 23,
   "metadata": {},
   "outputs": [
    {
     "name": "stdout",
     "output_type": "stream",
     "text": [
      "The 'floating_point' trait of a MyClass instance must be a float, but a value of '1' <class 'str'> was specified.\n",
      "The 'integer' trait of a MyClass instance must be an int, but a value of 1.1 <class 'float'> was specified.\n",
      "The 'string' trait of a MyClass instance must be a unicode string, but a value of 8.67 <class 'float'> was specified.\n"
     ]
    }
   ],
   "source": [
    "# but if the type doesn't match, an exception is thrown\n",
    "try: \n",
    "    my_class.floating_point = '1'\n",
    "except tl.TraitError as e:\n",
    "    print(e)\n",
    "try: \n",
    "    my_class.integer = 1.1\n",
    "except tl.TraitError as e:\n",
    "    print(e)\n",
    "try: \n",
    "    my_class.string = 8.67\n",
    "except tl.TraitError as e:\n",
    "    print(e)"
   ]
  },
  {
   "cell_type": "markdown",
   "metadata": {},
   "source": [
    "**Note**: The integer trait threw an exception when we provided a floating point number. \n",
    "\n",
    "If you just want to round the integer, you can use the 'Cast' version of a trait."
   ]
  },
  {
   "cell_type": "code",
   "execution_count": 21,
   "metadata": {},
   "outputs": [
    {
     "data": {
      "text/plain": [
       "cast_integer: 0\n",
       "floating_point: 0.0\n",
       "integer: 0\n",
       "string: "
      ]
     },
     "execution_count": 21,
     "metadata": {},
     "output_type": "execute_result"
    }
   ],
   "source": [
    "# Define a new class that inherits from the previous class\n",
    "class MyClass2(MyClass):\n",
    "    cast_integer = tl.CInt()  # Create a trait with a cast integer version\n",
    "    string = tl.CUnicode()    # Over-write the unicode trait with the cast version\n",
    "my_class2 = MyClass2()\n",
    "my_class2"
   ]
  },
  {
   "cell_type": "code",
   "execution_count": 22,
   "metadata": {},
   "outputs": [
    {
     "data": {
      "text/plain": [
       "cast_integer: 1\n",
       "floating_point: 0.0\n",
       "integer: 0\n",
       "string: 8.76"
      ]
     },
     "execution_count": 22,
     "metadata": {},
     "output_type": "execute_result"
    }
   ],
   "source": [
    "my_class2.cast_integer = 1.1\n",
    "my_class2.string = 8.76\n",
    "my_class2"
   ]
  },
  {
   "cell_type": "markdown",
   "metadata": {},
   "source": [
    "### Class Instance Traits"
   ]
  },
  {
   "cell_type": "code",
   "execution_count": 31,
   "metadata": {},
   "outputs": [
    {
     "data": {
      "text/plain": [
       "floating_point: 0.0\n",
       "integer: 0\n",
       "my_class: cast_integer: 0\n",
       "floating_point: 0.0\n",
       "integer: 0\n",
       "string: \n",
       "my_class2: cast_integer: 0\n",
       "floating_point: 0.0\n",
       "integer: 0\n",
       "string: \n",
       "string: "
      ]
     },
     "execution_count": 31,
     "metadata": {},
     "output_type": "execute_result"
    }
   ],
   "source": [
    "class MyClass3(MyClass):\n",
    "    my_class2 = tl.Instance(MyClass2)\n",
    "    my_class = tl.Instance(MyClass)\n",
    "my_class3 = MyClass3()\n",
    "my_class3.my_class2 = MyClass2()\n",
    "my_class3.my_class = MyClass2()\n",
    "my_class3"
   ]
  },
  {
   "cell_type": "code",
   "execution_count": 33,
   "metadata": {},
   "outputs": [
    {
     "name": "stdout",
     "output_type": "stream",
     "text": [
      "The 'my_class2' trait of a MyClass3 instance must be a MyClass2, but a value of class '__main__.MyClass' (i.e. floating_point: 0.0\n",
      "integer: 0\n",
      "string: ) was specified.\n"
     ]
    }
   ],
   "source": [
    "my_class3.my_class = MyClass2()  # Can assign child classes (still an instance of MyClass)\n",
    "try: \n",
    "    my_class3.my_class2 = MyClass()  # Cannot assign child classes (MyClass is not an instance of MyClass2)\n",
    "except tl.TraitError as e:\n",
    "    print(e)"
   ]
  },
  {
   "cell_type": "markdown",
   "metadata": {},
   "source": [
    "## Initializing Traits"
   ]
  },
  {
   "cell_type": "code",
   "execution_count": null,
   "metadata": {},
   "outputs": [],
   "source": [
    "# TODO"
   ]
  },
  {
   "cell_type": "markdown",
   "metadata": {},
   "source": [
    "## Tagging Attributes\n"
   ]
  },
  {
   "cell_type": "code",
   "execution_count": 36,
   "metadata": {},
   "outputs": [],
   "source": [
    "# TODO"
   ]
  },
  {
   "cell_type": "markdown",
   "metadata": {},
   "source": [
    "## Observing Traits"
   ]
  },
  {
   "cell_type": "code",
   "execution_count": null,
   "metadata": {},
   "outputs": [],
   "source": []
  },
  {
   "cell_type": "markdown",
   "metadata": {},
   "source": [
    "# PODPAC and Traits"
   ]
  },
  {
   "cell_type": "code",
   "execution_count": null,
   "metadata": {},
   "outputs": [],
   "source": [
    "# TODO"
   ]
  }
 ],
 "metadata": {
  "kernelspec": {
   "display_name": "Python 3",
   "language": "python",
   "name": "python3"
  },
  "language_info": {
   "codemirror_mode": {
    "name": "ipython",
    "version": 3
   },
   "file_extension": ".py",
   "mimetype": "text/x-python",
   "name": "python",
   "nbconvert_exporter": "python",
   "pygments_lexer": "ipython3",
   "version": "3.6.3"
  }
 },
 "nbformat": 4,
 "nbformat_minor": 2
}
