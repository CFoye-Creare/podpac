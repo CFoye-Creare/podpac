{
 "cells": [
  {
   "cell_type": "markdown",
   "metadata": {},
   "source": [
    "# UnitsDataArray"
   ]
  },
  {
   "cell_type": "markdown",
   "metadata": {},
   "source": [
    "UnitsDataArray is the main ouput container for evaluated nodes in PODPAC.\n",
    "UnitsDataArray is a wrapper around [xarray DataArray](http://xarray.pydata.org/en/stable/generated/xarray.DataArray.html)"
   ]
  },
  {
   "cell_type": "code",
   "execution_count": 11,
   "metadata": {},
   "outputs": [],
   "source": [
    "import numpy as np\n",
    "from podpac import Node"
   ]
  },
  {
   "cell_type": "code",
   "execution_count": 45,
   "metadata": {},
   "outputs": [
    {
     "data": {
      "text/plain": [
       "<xarray.UnitsDataArray (lat: 5, lon: 5)>\n",
       "array([[0.054578, 0.942669, 0.545054, 0.189823, 0.716969],\n",
       "       [0.338922, 0.300583, 0.12003 , 0.964723, 0.764554],\n",
       "       [0.546585, 0.910471, 0.690243, 0.761469, 0.907821],\n",
       "       [0.160873, 0.085718, 0.91427 , 0.901375, 0.764637],\n",
       "       [0.571522, 0.353221, 0.68945 , 0.075019, 0.448275]])\n",
       "Coordinates:\n",
       "  * lat      (lat) float64 -10.0 -5.0 0.0 5.0 10.0\n",
       "  * lon      (lon) float64 -10.0 -5.0 0.0 5.0 10.0\n",
       "Attributes:\n",
       "    layer_style:  <podpac.core.style.Style object at 0x1c2374f208>\n",
       "    units:        None"
      ]
     },
     "execution_count": 45,
     "metadata": {},
     "output_type": "execute_result"
    }
   ],
   "source": [
    "# create an empty note, then use the convience method `create_output_array` to create\n",
    "# an output array with data at specific Coordinates\n",
    "node = Node()\n",
    "data = np.random.rand(5, 5)\n",
    "coords = Coordinates([np.linspace(-10, 10, 5), np.linspace(-10, 10, 5)], ['lat', 'lon'])\n",
    "units_data_array = node.create_output_array(coords, data=data)\n",
    "\n",
    "units_data_array"
   ]
  },
  {
   "cell_type": "code",
   "execution_count": 40,
   "metadata": {},
   "outputs": [
    {
     "data": {
      "text/plain": [
       "array([[0.94530436, 0.12521433, 0.67357558, 0.6241213 , 0.25374485],\n",
       "       [0.24989489, 0.6035315 , 0.60863362, 0.6416228 , 0.3920896 ],\n",
       "       [0.83446444, 0.09304617, 0.52418154, 0.73482263, 0.17170687],\n",
       "       [0.75717915, 0.74316486, 0.57358115, 0.04720775, 0.96356234],\n",
       "       [0.02944918, 0.63291924, 0.53221914, 0.58217447, 0.71497121]])"
      ]
     },
     "execution_count": 40,
     "metadata": {},
     "output_type": "execute_result"
    }
   ],
   "source": [
    "# get data values\n",
    "units_data_array.values\n",
    "\n",
    "# or equivalently\n",
    "# units_data_array.data"
   ]
  },
  {
   "cell_type": "code",
   "execution_count": 42,
   "metadata": {},
   "outputs": [
    {
     "name": "stdout",
     "output_type": "stream",
     "text": [
      "<class 'xarray.core.coordinates.DataArrayCoordinates'>\n"
     ]
    },
    {
     "data": {
      "text/plain": [
       "Coordinates:\n",
       "  * lat      (lat) float64 -10.0 -5.0 0.0 5.0 10.0\n",
       "  * lon      (lon) float64 -10.0 -5.0 0.0 5.0 10.0"
      ]
     },
     "execution_count": 42,
     "metadata": {},
     "output_type": "execute_result"
    }
   ],
   "source": [
    "# get xarray coordinates\n",
    "print(type(units_data_array.coords))\n",
    "units_data_array.coords"
   ]
  },
  {
   "cell_type": "code",
   "execution_count": 43,
   "metadata": {},
   "outputs": [
    {
     "data": {
      "text/plain": [
       "<xarray.UnitsDataArray 'lat' (lat: 5)>\n",
       "array([-10.,  -5.,   0.,   5.,  10.])\n",
       "Coordinates:\n",
       "  * lat      (lat) float64 -10.0 -5.0 0.0 5.0 10.0"
      ]
     },
     "execution_count": 43,
     "metadata": {},
     "output_type": "execute_result"
    }
   ],
   "source": [
    "# get individual xarray coordinates\n",
    "units_data_array.coords['lat']\n",
    "\n",
    "# or equivalently:\n",
    "# units_data_array['lat']"
   ]
  },
  {
   "cell_type": "code",
   "execution_count": 44,
   "metadata": {},
   "outputs": [
    {
     "data": {
      "text/plain": [
       "array([-10.,  -5.,   0.,   5.,  10.])"
      ]
     },
     "execution_count": 44,
     "metadata": {},
     "output_type": "execute_result"
    }
   ],
   "source": [
    "# get individual xarray coordinate values\n",
    "units_data_array.coords['lat'].values\n",
    "\n",
    "# or equivalently:\n",
    "# units_data_array.coords['lat'].data\n",
    "# units_data_array['lat'].values\n",
    "# units_data_array['lat'].data"
   ]
  },
  {
   "cell_type": "code",
   "execution_count": 46,
   "metadata": {},
   "outputs": [
    {
     "data": {
      "text/plain": [
       "('lat', 'lon')"
      ]
     },
     "execution_count": 46,
     "metadata": {},
     "output_type": "execute_result"
    }
   ],
   "source": [
    "# get the dimensions of the DataArray\n",
    "units_data_array.dims"
   ]
  },
  {
   "cell_type": "markdown",
   "metadata": {},
   "source": [
    "### Stacked Coordinates"
   ]
  },
  {
   "cell_type": "code",
   "execution_count": 50,
   "metadata": {},
   "outputs": [
    {
     "data": {
      "text/plain": [
       "<xarray.UnitsDataArray (lat_lon: 5)>\n",
       "array([0.452872, 0.262097, 0.186283, 0.708614, 0.216625])\n",
       "Coordinates:\n",
       "  * lat_lon  (lat_lon) MultiIndex\n",
       "  - lat      (lat_lon) float64 -10.0 -5.0 0.0 5.0 10.0\n",
       "  - lon      (lat_lon) float64 -10.0 -5.0 0.0 5.0 10.0\n",
       "Attributes:\n",
       "    layer_style:  <podpac.core.style.Style object at 0x1c23782c50>\n",
       "    units:        None"
      ]
     },
     "execution_count": 50,
     "metadata": {},
     "output_type": "execute_result"
    }
   ],
   "source": [
    "# create an empty note, then use the convience method `create_output_array` to create\n",
    "# an output array with data at specific Coordinates\n",
    "node = Node()\n",
    "data = np.random.rand(5)\n",
    "coords = Coordinates([(np.linspace(-10, 10, 5), np.linspace(-10, 10, 5))], ['lat_lon'])\n",
    "\n",
    "units_data_array = node.create_output_array(coords, data=data)\n",
    "\n",
    "units_data_array"
   ]
  },
  {
   "cell_type": "code",
   "execution_count": 52,
   "metadata": {},
   "outputs": [
    {
     "name": "stdout",
     "output_type": "stream",
     "text": [
      "<class 'xarray.core.coordinates.DataArrayCoordinates'>\n"
     ]
    },
    {
     "data": {
      "text/plain": [
       "Coordinates:\n",
       "  * lat_lon  (lat_lon) MultiIndex\n",
       "  - lat      (lat_lon) float64 -10.0 -5.0 0.0 5.0 10.0\n",
       "  - lon      (lat_lon) float64 -10.0 -5.0 0.0 5.0 10.0"
      ]
     },
     "execution_count": 52,
     "metadata": {},
     "output_type": "execute_result"
    }
   ],
   "source": [
    "# get xarray coordinates\n",
    "print(type(units_data_array.coords))\n",
    "units_data_array.coords"
   ]
  },
  {
   "cell_type": "code",
   "execution_count": 51,
   "metadata": {},
   "outputs": [
    {
     "data": {
      "text/plain": [
       "('lat_lon',)"
      ]
     },
     "execution_count": 51,
     "metadata": {},
     "output_type": "execute_result"
    }
   ],
   "source": [
    "# get the dimensions of the DataArray\n",
    "units_data_array.dims"
   ]
  }
 ],
 "metadata": {
  "kernelspec": {
   "display_name": "Python 3",
   "language": "python",
   "name": "python3"
  },
  "language_info": {
   "codemirror_mode": {
    "name": "ipython",
    "version": 3
   },
   "file_extension": ".py",
   "mimetype": "text/x-python",
   "name": "python",
   "nbconvert_exporter": "python",
   "pygments_lexer": "ipython3",
   "version": "3.6.5"
  }
 },
 "nbformat": 4,
 "nbformat_minor": 2
}
