{
 "cells": [
  {
   "cell_type": "markdown",
   "metadata": {},
   "source": [
    "# UnitsDataArray"
   ]
  },
  {
   "cell_type": "markdown",
   "metadata": {},
   "source": [
    "UnitsDataArray is the main ouput container for evaluated nodes in PODPAC.\n",
    "UnitsDataArray is a wrapper around [xarray DataArray](http://xarray.pydata.org/en/stable/generated/xarray.DataArray.html)"
   ]
  },
  {
   "cell_type": "code",
   "execution_count": 31,
   "metadata": {},
   "outputs": [],
   "source": [
    "import numpy as np\n",
    "from podpac import Node, Coordinates"
   ]
  },
  {
   "cell_type": "code",
   "execution_count": 32,
   "metadata": {},
   "outputs": [
    {
     "data": {
      "text/plain": [
       "<xarray.UnitsDataArray (lat: 5, lon: 5)>\n",
       "array([[0.278393, 0.519213, 0.970743, 0.264014, 0.97926 ],\n",
       "       [0.283064, 0.974952, 0.602771, 0.612484, 0.12286 ],\n",
       "       [0.654267, 0.724464, 0.081258, 0.694314, 0.986847],\n",
       "       [0.076126, 0.916126, 0.627588, 0.904229, 0.96175 ],\n",
       "       [0.963371, 0.729748, 0.177577, 0.867323, 0.594614]])\n",
       "Coordinates:\n",
       "  * lat      (lat) float64 -10.0 -5.0 0.0 5.0 10.0\n",
       "  * lon      (lon) float64 -10.0 -5.0 0.0 5.0 10.0\n",
       "Attributes:\n",
       "    layer_style:  <podpac.core.style.Style object at 0x1c1f846400>\n",
       "    units:        None"
      ]
     },
     "execution_count": 32,
     "metadata": {},
     "output_type": "execute_result"
    }
   ],
   "source": [
    "# create an empty note, then use the convience method `create_output_array` to create\n",
    "# an output array with data at specific Coordinates\n",
    "node = Node()\n",
    "data = np.random.rand(5, 5)\n",
    "coords = Coordinates([np.linspace(-10, 10, 5), np.linspace(-10, 10, 5)], ['lat', 'lon'])\n",
    "units_data_array = node.create_output_array(coords, data=data)\n",
    "\n",
    "units_data_array"
   ]
  },
  {
   "cell_type": "code",
   "execution_count": 33,
   "metadata": {},
   "outputs": [
    {
     "data": {
      "text/plain": [
       "array([[0.27839318, 0.51921347, 0.97074301, 0.26401368, 0.97925967],\n",
       "       [0.28306398, 0.97495236, 0.60277125, 0.61248364, 0.12286022],\n",
       "       [0.65426732, 0.72446427, 0.0812584 , 0.69431421, 0.98684653],\n",
       "       [0.07612637, 0.91612571, 0.6275878 , 0.90422863, 0.96175046],\n",
       "       [0.96337142, 0.72974753, 0.17757671, 0.86732291, 0.59461437]])"
      ]
     },
     "execution_count": 33,
     "metadata": {},
     "output_type": "execute_result"
    }
   ],
   "source": [
    "# get data values\n",
    "units_data_array.values\n",
    "\n",
    "# or equivalently\n",
    "# units_data_array.data"
   ]
  },
  {
   "cell_type": "code",
   "execution_count": 34,
   "metadata": {},
   "outputs": [
    {
     "data": {
      "text/plain": [
       "<xarray.UnitsDataArray (lon: 5)>\n",
       "array([0.278393, 0.519213, 0.970743, 0.264014, 0.97926 ])\n",
       "Coordinates:\n",
       "    lat      float64 -10.0\n",
       "  * lon      (lon) float64 -10.0 -5.0 0.0 5.0 10.0\n",
       "Attributes:\n",
       "    layer_style:  <podpac.core.style.Style object at 0x1c1f846400>\n",
       "    units:        None"
      ]
     },
     "execution_count": 34,
     "metadata": {},
     "output_type": "execute_result"
    }
   ],
   "source": [
    "# get data values by coordinate value\n",
    "units_data_array.loc[-10]"
   ]
  },
  {
   "cell_type": "code",
   "execution_count": 42,
   "metadata": {},
   "outputs": [
    {
     "name": "stdout",
     "output_type": "stream",
     "text": [
      "<class 'xarray.core.coordinates.DataArrayCoordinates'>\n"
     ]
    },
    {
     "data": {
      "text/plain": [
       "Coordinates:\n",
       "  * lat      (lat) float64 -10.0 -5.0 0.0 5.0 10.0\n",
       "  * lon      (lon) float64 -10.0 -5.0 0.0 5.0 10.0"
      ]
     },
     "execution_count": 42,
     "metadata": {},
     "output_type": "execute_result"
    }
   ],
   "source": [
    "# get xarray coordinates\n",
    "print(type(units_data_array.coords))\n",
    "units_data_array.coords"
   ]
  },
  {
   "cell_type": "code",
   "execution_count": 43,
   "metadata": {},
   "outputs": [
    {
     "data": {
      "text/plain": [
       "<xarray.UnitsDataArray 'lat' (lat: 5)>\n",
       "array([-10.,  -5.,   0.,   5.,  10.])\n",
       "Coordinates:\n",
       "  * lat      (lat) float64 -10.0 -5.0 0.0 5.0 10.0"
      ]
     },
     "execution_count": 43,
     "metadata": {},
     "output_type": "execute_result"
    }
   ],
   "source": [
    "# get individual xarray coordinates\n",
    "units_data_array.coords['lat']\n",
    "\n",
    "# or equivalently:\n",
    "# units_data_array['lat']"
   ]
  },
  {
   "cell_type": "code",
   "execution_count": 44,
   "metadata": {},
   "outputs": [
    {
     "data": {
      "text/plain": [
       "array([-10.,  -5.,   0.,   5.,  10.])"
      ]
     },
     "execution_count": 44,
     "metadata": {},
     "output_type": "execute_result"
    }
   ],
   "source": [
    "# get individual xarray coordinate values\n",
    "units_data_array.coords['lat'].values\n",
    "\n",
    "# or equivalently:\n",
    "# units_data_array.coords['lat'].data\n",
    "# units_data_array['lat'].values\n",
    "# units_data_array['lat'].data"
   ]
  },
  {
   "cell_type": "code",
   "execution_count": 46,
   "metadata": {},
   "outputs": [
    {
     "data": {
      "text/plain": [
       "('lat', 'lon')"
      ]
     },
     "execution_count": 46,
     "metadata": {},
     "output_type": "execute_result"
    }
   ],
   "source": [
    "# get the dimensions of the DataArray\n",
    "units_data_array.dims"
   ]
  },
  {
   "cell_type": "markdown",
   "metadata": {},
   "source": [
    "### Stacked Coordinates"
   ]
  },
  {
   "cell_type": "code",
   "execution_count": 25,
   "metadata": {},
   "outputs": [
    {
     "data": {
      "text/plain": [
       "<xarray.UnitsDataArray (lat_lon: 5)>\n",
       "array([0.31491 , 0.94718 , 0.031065, 0.229489, 0.475143])\n",
       "Coordinates:\n",
       "  * lat_lon  (lat_lon) MultiIndex\n",
       "  - lat      (lat_lon) float64 -10.0 -5.0 0.0 5.0 10.0\n",
       "  - lon      (lat_lon) float64 -10.0 -5.0 0.0 5.0 10.0\n",
       "Attributes:\n",
       "    layer_style:  <podpac.core.style.Style object at 0x10cab4390>\n",
       "    units:        None"
      ]
     },
     "execution_count": 25,
     "metadata": {},
     "output_type": "execute_result"
    }
   ],
   "source": [
    "# create an empty note, then use the convience method `create_output_array` to create\n",
    "# an output array with data at specific Coordinates\n",
    "node = Node()\n",
    "data = np.random.rand(5)\n",
    "coords = Coordinates([(np.linspace(-10, 10, 5), np.linspace(-10, 10, 5))], ['lat_lon'])\n",
    "\n",
    "units_data_array = node.create_output_array(coords, data=data)\n",
    "\n",
    "units_data_array"
   ]
  },
  {
   "cell_type": "code",
   "execution_count": 26,
   "metadata": {},
   "outputs": [
    {
     "name": "stdout",
     "output_type": "stream",
     "text": [
      "<class 'xarray.core.coordinates.DataArrayCoordinates'>\n"
     ]
    },
    {
     "data": {
      "text/plain": [
       "Coordinates:\n",
       "  * lat_lon  (lat_lon) MultiIndex\n",
       "  - lat      (lat_lon) float64 -10.0 -5.0 0.0 5.0 10.0\n",
       "  - lon      (lat_lon) float64 -10.0 -5.0 0.0 5.0 10.0"
      ]
     },
     "execution_count": 26,
     "metadata": {},
     "output_type": "execute_result"
    }
   ],
   "source": [
    "# get xarray coordinates\n",
    "print(type(units_data_array.coords))\n",
    "units_data_array.coords"
   ]
  },
  {
   "cell_type": "code",
   "execution_count": 27,
   "metadata": {},
   "outputs": [
    {
     "data": {
      "text/plain": [
       "('lat_lon',)"
      ]
     },
     "execution_count": 27,
     "metadata": {},
     "output_type": "execute_result"
    }
   ],
   "source": [
    "# get the dimensions of the DataArray\n",
    "units_data_array.dims"
   ]
  }
 ],
 "metadata": {
  "kernelspec": {
   "display_name": "Python 3",
   "language": "python",
   "name": "python3"
  },
  "language_info": {
   "codemirror_mode": {
    "name": "ipython",
    "version": 3
   },
   "file_extension": ".py",
   "mimetype": "text/x-python",
   "name": "python",
   "nbconvert_exporter": "python",
   "pygments_lexer": "ipython3",
   "version": "3.6.5"
  }
 },
 "nbformat": 4,
 "nbformat_minor": 2
}
