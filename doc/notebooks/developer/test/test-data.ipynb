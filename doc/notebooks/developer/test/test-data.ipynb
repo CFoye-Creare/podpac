{
 "cells": [
  {
   "cell_type": "code",
   "execution_count": 1,
   "metadata": {},
   "outputs": [],
   "source": [
    "from podpac import DataSource\n",
    "from podpac.core.units import UnitsDataArray\n",
    "\n",
    "import numpy as np\n",
    "from podpac.core.data.test.test_data import MockDataSource, MockEmptyDataSource, MockNonuniformDataSource, DATA, COORDINATES\n",
    "from podpac.core.coordinate import Coordinate"
   ]
  },
  {
   "cell_type": "code",
   "execution_count": 2,
   "metadata": {},
   "outputs": [
    {
     "data": {
      "text/plain": [
       "[slice(None, None, None), slice(None, None, None)]"
      ]
     },
     "execution_count": 2,
     "metadata": {},
     "output_type": "execute_result"
    }
   ],
   "source": [
    "node= MockDataSource()\n",
    "coords_subset = node.native_coordinates.intersect(node.native_coordinates)\n",
    "coords_subset_slc = node.native_coordinates.intersect(node.native_coordinates, ind=True)\n",
    "coords_subset_slc"
   ]
  },
  {
   "cell_type": "code",
   "execution_count": 6,
   "metadata": {},
   "outputs": [
    {
     "data": {
      "text/plain": [
       "<xarray.UnitsDataArray (lat: 101, lon: 101)>\n",
       "array([[1.000000e+01, 1.000000e+00, 1.319944e-01, ..., 9.048668e-01,\n",
       "        3.272675e-01, 6.828074e-01],\n",
       "       [5.000000e+00,          nan, 6.175233e-01, ..., 2.952368e-03,\n",
       "        4.217724e-01, 2.981191e-01],\n",
       "       [5.607309e-01, 2.874058e-01, 7.759348e-01, ..., 4.102804e-01,\n",
       "        4.289011e-02, 2.893968e-01],\n",
       "       ...,\n",
       "       [9.054126e-01, 3.544961e-01, 5.875355e-01, ..., 1.215872e-02,\n",
       "        6.828333e-01, 5.897451e-01],\n",
       "       [1.071465e-01, 2.235670e-01, 3.470933e-01, ..., 7.776909e-01,\n",
       "        1.637081e-01, 1.784273e-03],\n",
       "       [7.594851e-02, 2.254184e-01, 7.836844e-01, ..., 7.144323e-01,\n",
       "        8.037180e-01, 1.366201e-01]])\n",
       "Coordinates:\n",
       "  * lat      (lat) float64 -25.0 -24.5 -24.0 -23.5 -23.0 -22.5 -22.0 -21.5 ...\n",
       "  * lon      (lon) float64 -25.0 -24.5 -24.0 -23.5 -23.0 -22.5 -22.0 -21.5 ...\n",
       "Attributes:\n",
       "    layer_style:  <podpac.core.node.Style object at 0x1c14cdbeb8>\n",
       "    params:       {'interpolation': 'nearest'}"
      ]
     },
     "execution_count": 6,
     "metadata": {},
     "output_type": "execute_result"
    }
   ],
   "source": [
    "node.execute(node.native_coordinates)"
   ]
  },
  {
   "cell_type": "code",
   "execution_count": 7,
   "metadata": {},
   "outputs": [
    {
     "name": "stdout",
     "output_type": "stream",
     "text": [
      "(52, 52)\n",
      "<xarray.UnitsDataArray 'lat' (lat: 52)>\n",
      "array([-25. , -24.5, -24. , -23.5, -23. , -22.5, -22. , -21.5, -21. , -20.5,\n",
      "       -20. , -19.5, -19. , -18.5, -18. , -17.5, -17. , -16.5, -16. , -15.5,\n",
      "       -15. , -14.5, -14. , -13.5, -13. , -12.5, -12. , -11.5, -11. , -10.5,\n",
      "       -10. ,  -9.5,  -9. ,  -8.5,  -8. ,  -7.5,  -7. ,  -6.5,  -6. ,  -5.5,\n",
      "        -5. ,  -4.5,  -4. ,  -3.5,  -3. ,  -2.5,  -2. ,  -1.5,  -1. ,  -0.5,\n",
      "         0. ,   0.5])\n",
      "Coordinates:\n",
      "  * lat      (lat) float64 -25.0 -24.5 -24.0 -23.5 -23.0 -22.5 -22.0 -21.5 ...\n",
      "-25.0\n"
     ]
    }
   ],
   "source": [
    "node = MockDataSource()\n",
    "coords = Coordinate(lat=(-25, 0, 13), lon=(-25, 0, 13), order=['lat', 'lon'])\n",
    "data, coords_subset = node.get_data_subset(coords)\n",
    "print(data.shape)\n",
    "print(data.lat)\n",
    "print(np.min(data.lat.values))"
   ]
  },
  {
   "cell_type": "code",
   "execution_count": 130,
   "metadata": {},
   "outputs": [
    {
     "data": {
      "text/plain": [
       "(18, 18)"
      ]
     },
     "execution_count": 130,
     "metadata": {},
     "output_type": "execute_result"
    }
   ],
   "source": [
    "node = MockDataSource(interpolation='nearest_preview')\n",
    "coords = Coordinate(lat=(-25, 0, 20), lon=(-25, 0, 20), order=['lat', 'lon'])\n",
    "data, coords_subset = node.get_data_subset(coords)\n",
    "coords_subset.shape\n",
    "data.shape"
   ]
  },
  {
   "cell_type": "code",
   "execution_count": 131,
   "metadata": {},
   "outputs": [
    {
     "data": {
      "text/plain": [
       "Coordinate\n",
       "\tlat: UniformCoord: Bounds[-25.0, 0.5], N[18], ctype[\"segment\"]\n",
       "\tlon: UniformCoord: Bounds[-25.0, 0.5], N[18], ctype[\"segment\"]"
      ]
     },
     "execution_count": 131,
     "metadata": {},
     "output_type": "execute_result"
    }
   ],
   "source": [
    "node = MockDataSource(interpolation='nearest_preview')\n",
    "coords = Coordinate(lat=(-25, 0, 20), lon=(-25, 0, 20), time=(1, 10, 10), order=['lat', 'lon', 'time'])\n",
    "data, coords_subset = node.get_data_subset(coords)\n",
    "coords_subset.shape\n",
    "coords_subset"
   ]
  },
  {
   "cell_type": "code",
   "execution_count": 133,
   "metadata": {},
   "outputs": [
    {
     "data": {
      "text/plain": [
       "(18, 101)"
      ]
     },
     "execution_count": 133,
     "metadata": {},
     "output_type": "execute_result"
    }
   ],
   "source": [
    "node = MockDataSource(interpolation='nearest_preview')\n",
    "coords = Coordinate(lat=(-25, 0, 20), order=['lat'])\n",
    "data, coords_subset = node.get_data_subset(coords)\n",
    "coords_subset.shape\n",
    "data.shape"
   ]
  },
  {
   "cell_type": "code",
   "execution_count": 134,
   "metadata": {},
   "outputs": [
    {
     "data": {
      "text/plain": [
       "(3, 101)"
      ]
     },
     "execution_count": 134,
     "metadata": {},
     "output_type": "execute_result"
    }
   ],
   "source": [
    "node = MockDataSource(interpolation='nearest_preview')\n",
    "coords = Coordinate(lat=[-25, -10, -5], order=['lat'])\n",
    "data, coords_subset = node.get_data_subset(coords)\n",
    "coords_subset.shape\n",
    "data.shape"
   ]
  },
  {
   "cell_type": "code",
   "execution_count": 8,
   "metadata": {},
   "outputs": [
    {
     "ename": "TypeError",
     "evalue": "execute() missing 1 required positional argument: 'coordinates'",
     "output_type": "error",
     "traceback": [
      "\u001b[0;31m---------------------------------------------------------------------------\u001b[0m",
      "\u001b[0;31mTypeError\u001b[0m                                 Traceback (most recent call last)",
      "\u001b[0;32m<ipython-input-8-eed923b94e0d>\u001b[0m in \u001b[0;36m<module>\u001b[0;34m()\u001b[0m\n\u001b[1;32m      1\u001b[0m \u001b[0mnode\u001b[0m \u001b[0;34m=\u001b[0m \u001b[0mMockDataSource\u001b[0m\u001b[0;34m(\u001b[0m\u001b[0;34m)\u001b[0m\u001b[0;34m\u001b[0m\u001b[0m\n\u001b[0;32m----> 2\u001b[0;31m \u001b[0mnode\u001b[0m\u001b[0;34m.\u001b[0m\u001b[0mexecute\u001b[0m\u001b[0;34m(\u001b[0m\u001b[0;34m)\u001b[0m\u001b[0;34m\u001b[0m\u001b[0m\n\u001b[0m",
      "\u001b[0;31mTypeError\u001b[0m: execute() missing 1 required positional argument: 'coordinates'"
     ]
    }
   ],
   "source": [
    "node = MockDataSource()\n",
    "node.execute()"
   ]
  },
  {
   "cell_type": "code",
   "execution_count": 11,
   "metadata": {},
   "outputs": [],
   "source": [
    "node = MockDataSource()\n",
    "output = node.execute(node.native_coordinates)\n",
    "output"
   ]
  },
  {
   "cell_type": "code",
   "execution_count": 33,
   "metadata": {},
   "outputs": [
    {
     "data": {
      "text/plain": [
       "<xarray.UnitsDataArray (lat: 20, lon: 20)>\n",
       "array([[0.402081, 0.180183, 0.788923, ..., 0.312137, 0.191326, 0.548026],\n",
       "       [0.909854, 0.212722, 0.369243, ..., 0.887062, 0.370301, 0.777282],\n",
       "       [0.222237, 0.638694, 0.893758, ..., 0.158085, 0.080099, 0.150241],\n",
       "       ...,\n",
       "       [0.041678, 0.757213, 0.44812 , ..., 0.160469, 0.289663, 0.832238],\n",
       "       [0.037744, 0.003196, 0.673412, ..., 0.783172, 0.98501 , 0.974563],\n",
       "       [0.00606 , 0.088103, 0.570319, ..., 0.287292, 0.961129, 0.184044]])\n",
       "Coordinates:\n",
       "  * lat      (lat) float64 -25.0 -23.68 -22.37 -21.05 -19.74 -18.42 -17.11 ...\n",
       "  * lon      (lon) float64 -25.0 -23.68 -22.37 -21.05 -19.74 -18.42 -17.11 ...\n",
       "Attributes:\n",
       "    layer_style:  <podpac.core.node.Style object at 0x1c17f8b5c0>\n",
       "    params:       {'interpolation': 'nearest'}"
      ]
     },
     "execution_count": 33,
     "metadata": {},
     "output_type": "execute_result"
    }
   ],
   "source": [
    "node = MockDataSource()\n",
    "coords = Coordinate(lat=(-25, 0, 20), lon=(-25, 0, 20), time=(1, 10, 10), order=['lat', 'lon', 'time'])\n",
    "output = node.execute(coords)\n",
    "output"
   ]
  },
  {
   "cell_type": "code",
   "execution_count": 35,
   "metadata": {},
   "outputs": [
    {
     "data": {
      "text/plain": [
       "<xarray.UnitsDataArray (lat: 20, lon: 20)>\n",
       "array([[nan, nan, nan, ..., nan, nan, nan],\n",
       "       [nan, nan, nan, ..., nan, nan, nan],\n",
       "       [nan, nan, nan, ..., nan, nan, nan],\n",
       "       ...,\n",
       "       [nan, nan, nan, ..., nan, nan, nan],\n",
       "       [nan, nan, nan, ..., nan, nan, nan],\n",
       "       [nan, nan, nan, ..., nan, nan, nan]])\n",
       "Coordinates:\n",
       "  * lat      (lat) float64 -55.0 -54.47 -53.95 -53.42 -52.89 -52.37 -51.84 ...\n",
       "  * lon      (lon) float64 -55.0 -54.47 -53.95 -53.42 -52.89 -52.37 -51.84 ...\n",
       "Attributes:\n",
       "    layer_style:  <podpac.core.node.Style object at 0x1c17f8bcc0>\n",
       "    params:       {'interpolation': 'nearest'}"
      ]
     },
     "execution_count": 35,
     "metadata": {},
     "output_type": "execute_result"
    }
   ],
   "source": [
    "node = MockDataSource()\n",
    "coords = Coordinate(lat=(-55, -45, 20), lon=(-55, -45, 20), order=['lat', 'lon'])\n",
    "output = node.execute(coords)\n",
    "output"
   ]
  },
  {
   "cell_type": "code",
   "execution_count": 6,
   "metadata": {},
   "outputs": [
    {
     "data": {
      "text/plain": [
       "(2,)"
      ]
     },
     "execution_count": 6,
     "metadata": {},
     "output_type": "execute_result"
    }
   ],
   "source": [
    "node = MockDataSource(no_data_vals=[10, None])\n",
    "output = node.execute(node.native_coordinates)\n",
    "output.values[np.isnan(output)].shape"
   ]
  },
  {
   "cell_type": "code",
   "execution_count": 8,
   "metadata": {},
   "outputs": [
    {
     "data": {
      "text/plain": [
       "True"
      ]
     },
     "execution_count": 8,
     "metadata": {},
     "output_type": "execute_result"
    }
   ],
   "source": [
    "node = MockDataSource()\n",
    "coords = Coordinate(lat=(-55, -45, 20), lon=(-55, -45, 20), order=['lat', 'lon'])\n",
    "output = node.execute(coords)\n",
    "np.all(np.isnan(output))"
   ]
  },
  {
   "cell_type": "code",
   "execution_count": 35,
   "metadata": {},
   "outputs": [
    {
     "data": {
      "text/plain": [
       "<xarray.UnitsDataArray (lat: 101, lon: 101)>\n",
       "array([[0., 0., 0., ..., 0., 0., 0.],\n",
       "       [0., 0., 0., ..., 0., 0., 0.],\n",
       "       [0., 0., 0., ..., 0., 0., 0.],\n",
       "       ...,\n",
       "       [0., 0., 0., ..., 0., 0., 0.],\n",
       "       [0., 0., 0., ..., 0., 0., 0.],\n",
       "       [0., 0., 0., ..., 0., 0., 0.]])\n",
       "Coordinates:\n",
       "  * lat      (lat) float64 -25.0 -24.5 -24.0 -23.5 -23.0 -22.5 -22.0 -21.5 ...\n",
       "  * lon      (lon) float64 -25.0 -24.5 -24.0 -23.5 -23.0 -22.5 -22.0 -21.5 ..."
      ]
     },
     "execution_count": 35,
     "metadata": {},
     "output_type": "execute_result"
    }
   ],
   "source": [
    "node = MockDataSource()\n",
    "UnitsDataArray(np.zeros(node.source.shape), coords=node.native_coordinates.coords, dims=node.native_coordinates.dims)"
   ]
  },
  {
   "cell_type": "code",
   "execution_count": 46,
   "metadata": {},
   "outputs": [
    {
     "data": {
      "text/plain": [
       "<xarray.DataArray ()>\n",
       "array(True)\n",
       "Coordinates:\n",
       "    lat      float64 -55.0\n",
       "    lon      float64 -55.0"
      ]
     },
     "execution_count": 46,
     "metadata": {},
     "output_type": "execute_result"
    }
   ],
   "source": [
    "node = MockDataSource()\n",
    "coords = Coordinate(lat=(-55, -45, 101), lon=(-55, -45, 101), order=['lat', 'lon'])\n",
    "output = UnitsDataArray(np.zeros(node.source.shape),\n",
    "                        coords=coords.coords,\n",
    "                        dims=coords.dims)\n",
    "output = node.execute(coords, output=output)\n",
    "np.isnan(output[0, 0])"
   ]
  },
  {
   "cell_type": "code",
   "execution_count": 42,
   "metadata": {},
   "outputs": [
    {
     "data": {
      "text/plain": [
       "<xarray.UnitsDataArray ()>\n",
       "array(False)\n",
       "Coordinates:\n",
       "    lat      float64 -25.0\n",
       "    lon      float64 -25.0"
      ]
     },
     "execution_count": 42,
     "metadata": {},
     "output_type": "execute_result"
    }
   ],
   "source": [
    "node = MockDataSource()\n",
    "output = UnitsDataArray(np.zeros(node.source.shape),\n",
    "                        coords=node.native_coordinates.coords,\n",
    "                        dims=node.native_coordinates.dims)\n",
    "node.execute(node.native_coordinates, output=output)\n",
    "\n",
    "output[0, 0] == 10"
   ]
  },
  {
   "cell_type": "code",
   "execution_count": 2,
   "metadata": {},
   "outputs": [
    {
     "data": {
      "text/plain": [
       "<xarray.UnitsDataArray (lat: 1, lon: 1)>\n",
       "array([[0.833761]])\n",
       "Coordinates:\n",
       "  * lat      (lat) float64 20.0\n",
       "  * lon      (lon) float64 20.0\n",
       "Attributes:\n",
       "    layer_style:  <podpac.core.node.Style object at 0x1c1b3a01d0>\n",
       "    params:       {}"
      ]
     },
     "execution_count": 2,
     "metadata": {},
     "output_type": "execute_result"
    }
   ],
   "source": [
    "source = np.random.rand(1,1)\n",
    "coords_src = Coordinate(lat=[20], lon=[20], order=['lat', 'lon'])\n",
    "coords_dst = Coordinate(lat=[20], lon=[20], order=['lat', 'lon'])\n",
    "\n",
    "node = DataSource(source=source, native_coordinates=coords_src)\n",
    "data_subset, coords_subset = node.get_data_subset(coords_dst)\n",
    "node._interpolate_data(data_subset, coords_subset, coords_dst)"
   ]
  },
  {
   "cell_type": "code",
   "execution_count": 15,
   "metadata": {},
   "outputs": [],
   "source": [
    "source = np.random.rand(1,1)\n",
    "coords_src = Coordinate(lat=[20], lon=[20], order=['lat', 'lon'])\n",
    "coords_dst = Coordinate(lat=[20], lon=[20], order=['lat', 'lon'])\n",
    "\n",
    "# TODO: this doesn't work, but I feel like it shold\n",
    "# coords_dst = Coordinate(lat=[21], lon=[21], order=['lat', 'lon'])\n",
    "\n",
    "node = MockEmptyDataSource(source=source, native_coordinates=coords_src)\n",
    "data, coords_subset = node.get_data_subset(coords_dst)\n",
    "output = node._interpolate_data(data, coords_subset, coords_dst)"
   ]
  },
  {
   "cell_type": "code",
   "execution_count": 18,
   "metadata": {},
   "outputs": [
    {
     "data": {
      "text/plain": [
       "1"
      ]
     },
     "execution_count": 18,
     "metadata": {},
     "output_type": "execute_result"
    }
   ],
   "source": [
    "np.prod(coords_dst.shape)"
   ]
  },
  {
   "cell_type": "code",
   "execution_count": 20,
   "metadata": {},
   "outputs": [
    {
     "data": {
      "text/plain": [
       "<xarray.UnitsDataArray (lat: 5)>\n",
       "array([0.861676,      nan, 0.377369, 0.003592, 0.238238])\n",
       "Coordinates:\n",
       "  * lat      (lat) float64 1.0 1.2 1.5 5.0 9.0\n",
       "Attributes:\n",
       "    layer_style:  <podpac.core.node.Style object at 0x1c1cbb4550>\n",
       "    params:       {'interpolation': 'nearest_preview'}"
      ]
     },
     "execution_count": 20,
     "metadata": {},
     "output_type": "execute_result"
    }
   ],
   "source": [
    "source = np.random.rand(5)\n",
    "coords_src = Coordinate(lat=(0, 10, 5), order=['lat'])\n",
    "coords_dst = Coordinate(lat=[1, 1.2, 1.5, 5, 9], order=['lat'])\n",
    "\n",
    "node = MockEmptyDataSource(source=source, native_coordinates=coords_src)\n",
    "node.interpolation = 'nearest_preview'\n",
    "\n",
    "output = node.execute(coords_dst)\n",
    "\n",
    "output"
   ]
  },
  {
   "cell_type": "code",
   "execution_count": 15,
   "metadata": {},
   "outputs": [
    {
     "data": {
      "text/plain": [
       "True"
      ]
     },
     "execution_count": 15,
     "metadata": {},
     "output_type": "execute_result"
    }
   ],
   "source": [
    "source = np.random.rand(5)\n",
    "coords_src = Coordinate(time=(0, 10, 5), order=['time'])\n",
    "coords_dst = Coordinate(time=(1, 11, 5), order=['time'])\n",
    "\n",
    "node = MockEmptyDataSource(source=source, native_coordinates=coords_src)\n",
    "\n",
    "output = node.execute(coords_dst)\n",
    "np.all(output.time.values == coords_dst.coords['time'])"
   ]
  },
  {
   "cell_type": "code",
   "execution_count": 2,
   "metadata": {},
   "outputs": [],
   "source": [
    "source = np.random.rand(5)\n",
    "coords_src = Coordinate(alt=(0, 10, 5), order=['alt'])\n",
    "coords_dst = Coordinate(alt=(1, 11, 5), order=['alt'])\n",
    "\n",
    "node = MockEmptyDataSource(source=source, native_coordinates=coords_src)\n",
    "output = node.execute(coords_dst)"
   ]
  },
  {
   "cell_type": "code",
   "execution_count": 2,
   "metadata": {},
   "outputs": [
    {
     "data": {
      "text/plain": [
       "<xarray.UnitsDataArray (lat: 5, lon: 5)>\n",
       "array([[0.110103, 0.726358, 0.683293, 0.642199,      nan],\n",
       "       [0.22125 , 0.233812, 0.577178, 0.465197,      nan],\n",
       "       [0.335269, 0.70526 , 0.53053 , 0.729101,      nan],\n",
       "       [0.712626, 0.785848, 0.803722, 0.497323,      nan],\n",
       "       [     nan,      nan,      nan,      nan,      nan]])\n",
       "Coordinates:\n",
       "  * lat      (lat) float64 2.0 4.5 7.0 9.5 12.0\n",
       "  * lon      (lon) float64 2.0 4.5 7.0 9.5 12.0\n",
       "Attributes:\n",
       "    layer_style:  <podpac.core.node.Style object at 0x1c20552208>\n",
       "    params:       {'interpolation': 'bilinear'}"
      ]
     },
     "execution_count": 2,
     "metadata": {},
     "output_type": "execute_result"
    }
   ],
   "source": [
    "source = np.random.rand(5,5)\n",
    "coords_src = Coordinate(lat=(0, 10, 5), lon=(0, 10, 5), order=['lat', 'lon'])\n",
    "coords_dst = Coordinate(lat=(2, 12, 5), lon=(2, 12, 5), order=['lat', 'lon'])\n",
    "\n",
    "node = MockEmptyDataSource(source=source, native_coordinates=coords_src)\n",
    "node.interpolation = 'bilinear'\n",
    "output = node.execute(coords_dst)\n",
    "output"
   ]
  },
  {
   "cell_type": "code",
   "execution_count": 5,
   "metadata": {},
   "outputs": [
    {
     "data": {
      "text/plain": [
       "True"
      ]
     },
     "execution_count": 5,
     "metadata": {},
     "output_type": "execute_result"
    }
   ],
   "source": [
    "coords_dst['lat'].scipy_regularity"
   ]
  },
  {
   "cell_type": "code",
   "execution_count": 33,
   "metadata": {},
   "outputs": [],
   "source": [
    "source = np.random.rand(5)\n",
    "coords_src = Coordinate(lat_lon=([0, 2, 4, 6, 8, 10], [0, 2, 4, 5, 6, 10]))\n",
    "coords_dst = Coordinate(lat_lon=([1, 2, 3, 4, 5], [1, 2, 3, 4, 5]))\n",
    "\n",
    "node = MockEmptyDataSource(source=source, native_coordinates=coords_src)\n",
    "output = node.execute(coords_dst)\n",
    "\n",
    "# coords_dst = Coordinate(lat=[1, 2, 3, 4, 5], lon=[1, 2, 3, 4, 5], order=['lat', 'lon'])\n",
    "# output = node.execute(coords_dst)"
   ]
  },
  {
   "cell_type": "code",
   "execution_count": 43,
   "metadata": {},
   "outputs": [],
   "source": [
    "source = np.random.rand(5, 5)\n",
    "coords_src = Coordinate(lat=(0, 10, 5), lon=(0, 10, 5), order=['lat', 'lon'])\n",
    "coords_dst = Coordinate(lat_lon=([0, 2, 4, 6, 8, 10], [0, 2, 4, 5, 6, 10]))\n",
    "\n",
    "node = MockEmptyDataSource(source=source, native_coordinates=coords_src)\n",
    "node.interpolation = 'nearest'\n",
    "output = node.execute(coords_dst)"
   ]
  },
  {
   "cell_type": "code",
   "execution_count": 45,
   "metadata": {},
   "outputs": [
    {
     "data": {
      "text/plain": [
       "array([[0.71231952, 0.10960281, 0.79947836, 0.88116954, 0.01321961],\n",
       "       [0.37863486, 0.61287449, 0.16611153, 0.62110283, 0.57714457],\n",
       "       [0.00269476, 0.16923126, 0.36326341, 0.18666607, 0.54373191],\n",
       "       [0.20597112, 0.11935562, 0.86889142, 0.08912899, 0.46883606],\n",
       "       [0.7946778 , 0.62003758, 0.04920923, 0.45902613, 0.0669611 ]])"
      ]
     },
     "execution_count": 45,
     "metadata": {},
     "output_type": "execute_result"
    }
   ],
   "source": [
    "source"
   ]
  },
  {
   "cell_type": "code",
   "execution_count": 46,
   "metadata": {},
   "outputs": [
    {
     "data": {
      "text/plain": [
       "array([( 0.,  0.), ( 2.,  2.), ( 4.,  4.), ( 6.,  5.), ( 8.,  6.),\n",
       "       (10., 10.)], dtype=[('lat', '<f8'), ('lon', '<f8')])"
      ]
     },
     "execution_count": 46,
     "metadata": {},
     "output_type": "execute_result"
    }
   ],
   "source": [
    "output.lat_lon.values"
   ]
  },
  {
   "cell_type": "code",
   "execution_count": 2,
   "metadata": {},
   "outputs": [
    {
     "ename": "ImportError",
     "evalue": "dlopen(/Users/marcus/computing/python/anaconda3/envs/podpac/lib/python3.6/site-packages/rasterio/_base.cpython-36m-darwin.so, 2): Library not loaded: @rpath/libgssapi_krb5.2.2.dylib\n  Referenced from: /Users/marcus/computing/python/anaconda3/envs/podpac/lib/libdapclient.6.dylib\n  Reason: image not found",
     "output_type": "error",
     "traceback": [
      "\u001b[0;31m---------------------------------------------------------------------------\u001b[0m",
      "\u001b[0;31mImportError\u001b[0m                               Traceback (most recent call last)",
      "\u001b[0;32m<ipython-input-2-350e27267e59>\u001b[0m in \u001b[0;36m<module>\u001b[0;34m()\u001b[0m\n\u001b[0;32m----> 1\u001b[0;31m \u001b[0;32mimport\u001b[0m \u001b[0mrasterio\u001b[0m\u001b[0;34m\u001b[0m\u001b[0m\n\u001b[0m",
      "\u001b[0;32m~/computing/python/anaconda3/envs/podpac/lib/python3.6/site-packages/rasterio/__init__.py\u001b[0m in \u001b[0;36m<module>\u001b[0;34m()\u001b[0m\n\u001b[1;32m     13\u001b[0m \u001b[0;32mimport\u001b[0m \u001b[0mwarnings\u001b[0m\u001b[0;34m\u001b[0m\u001b[0m\n\u001b[1;32m     14\u001b[0m \u001b[0;34m\u001b[0m\u001b[0m\n\u001b[0;32m---> 15\u001b[0;31m from rasterio._base import (\n\u001b[0m\u001b[1;32m     16\u001b[0m     eval_window, window_shape, window_index, gdal_version)\n\u001b[1;32m     17\u001b[0m from rasterio.dtypes import (\n",
      "\u001b[0;31mImportError\u001b[0m: dlopen(/Users/marcus/computing/python/anaconda3/envs/podpac/lib/python3.6/site-packages/rasterio/_base.cpython-36m-darwin.so, 2): Library not loaded: @rpath/libgssapi_krb5.2.2.dylib\n  Referenced from: /Users/marcus/computing/python/anaconda3/envs/podpac/lib/libdapclient.6.dylib\n  Reason: image not found"
     ]
    }
   ],
   "source": [
    "import rasterio"
   ]
  },
  {
   "cell_type": "code",
   "execution_count": 2,
   "metadata": {},
   "outputs": [],
   "source": [
    "source = np.random.rand(5)\n",
    "coords_src = Coordinate(lat=(0, 10, 5), order=['lat'])\n",
    "coords_dst = Coordinate(lat=[1, 1.2, 1.5, 5, 9], order=['lat'])\n",
    "\n",
    "node = MockEmptyDataSource(source=source, native_coordinates=coords_src)\n",
    "node.interpolation = 'nearest_preview'\n",
    "output = node.execute(coords_dst)"
   ]
  },
  {
   "cell_type": "code",
   "execution_count": 7,
   "metadata": {},
   "outputs": [
    {
     "data": {
      "text/plain": [
       "<xarray.UnitsDataArray (lat: 5)>\n",
       "array([0.185934, 0.151691, 0.60309 , 0.007854, 0.418466])\n",
       "Coordinates:\n",
       "  * lat      (lat) float64 0.0 2.5 5.0 7.5 10.0\n",
       "Attributes:\n",
       "    layer_style:  <podpac.core.node.Style object at 0x1108faf28>"
      ]
     },
     "execution_count": 7,
     "metadata": {},
     "output_type": "execute_result"
    }
   ],
   "source": [
    "node.output"
   ]
  },
  {
   "cell_type": "code",
   "execution_count": null,
   "metadata": {},
   "outputs": [],
   "source": []
  }
 ],
 "metadata": {
  "kernelspec": {
   "display_name": "Python 3",
   "language": "python",
   "name": "python3"
  },
  "language_info": {
   "codemirror_mode": {
    "name": "ipython",
    "version": 3
   },
   "file_extension": ".py",
   "mimetype": "text/x-python",
   "name": "python",
   "nbconvert_exporter": "python",
   "pygments_lexer": "ipython3",
   "version": "3.6.5"
  }
 },
 "nbformat": 4,
 "nbformat_minor": 2
}
