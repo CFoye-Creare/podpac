{
 "cells": [
  {
   "cell_type": "code",
   "execution_count": 1,
   "metadata": {},
   "outputs": [],
   "source": [
    "from podpac.core.coordinates import Coordinates, clinspace, UniformCoordinates1d, StackedCoordinates\n",
    "from podpac.core.data import interpolate\n",
    "from podpac.core.data.interpolate import (Interpolation, InterpolationException,\n",
    "                                          Interpolator, INTERPOLATION_METHODS,\n",
    "                                          INTERPOLATION_SHORTCUTS, NearestNeighbor)\n",
    "from podpac.core.data.datasource import DataSource\n",
    "from podpac.core.units import UnitsDataArray\n",
    "from podpac.core.data.test.test_datasource import MockDataSource, MockArrayDataSource, MockNonuniformDataSource\n",
    "\n",
    "import numpy as np"
   ]
  },
  {
   "cell_type": "code",
   "execution_count": 56,
   "metadata": {},
   "outputs": [
    {
     "data": {
      "text/plain": [
       "numpy.timedelta64(2,'D')"
      ]
     },
     "execution_count": 56,
     "metadata": {},
     "output_type": "execute_result"
    }
   ],
   "source": [
    "np.datetime64('2018-01-09')- np.datetime64('2018-01-07')"
   ]
  },
  {
   "cell_type": "code",
   "execution_count": null,
   "metadata": {},
   "outputs": [],
   "source": [
    "reqcoords = Coordinates([[-.5, 1.5, 3.5], [.5, 2.5, 4.5]], dims=['lat', 'lon'])\n",
    "srccoords = Coordinates([[0, 1, 2, 3, 4, 5], [0, 1, 2, 3, 4, 5]], dims=['lat', 'lon'])\n",
    "\n",
    "interp = Interpolation('nearest_preview')\n",
    "\n",
    "srccoords, srccoords_index = srccoords.intersect(reqcoords, outer=True, return_indices=True)\n",
    "coords, cidx = interp.select_coordinates(srccoords, srccoords_index, reqcoords)"
   ]
  },
  {
   "cell_type": "code",
   "execution_count": null,
   "metadata": {},
   "outputs": [],
   "source": [
    "# test when selection is applied serially\n",
    "reqcoords = Coordinates([[-.5, 1.5, 3.5], [.5, 2.5, 4.5]], dims=['lat', 'lon'])\n",
    "srccoords = Coordinates([[0, 1, 2, 3, 4, 5], [0, 1, 2, 3, 4, 5]], dims=['lat', 'lon'])\n",
    "\n",
    "interp = Interpolation({\n",
    "    'lat': 'nearest_preview',\n",
    "    'lon': 'nearest_preview'\n",
    "})\n",
    "\n",
    "srccoords, srccoords_index = srccoords.intersect(reqcoords, outer=True, return_indices=True)\n",
    "coords, cidx = interp.select_coordinates(srccoords, srccoords_index, reqcoords)"
   ]
  },
  {
   "cell_type": "code",
   "execution_count": null,
   "metadata": {},
   "outputs": [],
   "source": [
    "reqcoords = Coordinates([[-.5, 1.5, 3.5], [.5, 2.5, 4.5]], dims=['lat', 'lon'])\n",
    "srccoords = Coordinates([([0, 1, 2, 3, 4, 5], [0, 1, 2, 3, 4, 5])], dims=['lat_lon'])\n",
    "srccoords, srccoords_index = srccoords.intersect(reqcoords, outer=True, return_indices=True)\n",
    "\n",
    "for src_dim, idx in zip(srccoords, srccoords_index):\n",
    "    print(src_dim)\n",
    "    print(idx)"
   ]
  },
  {
   "cell_type": "code",
   "execution_count": null,
   "metadata": {},
   "outputs": [],
   "source": [
    "len(reqcoords['lat'])\n",
    "np.all(coords['lat'].coordinates == np.array([0, 2, 4]))"
   ]
  },
  {
   "cell_type": "markdown",
   "metadata": {},
   "source": [
    "### Unstacked Coordinates"
   ]
  },
  {
   "cell_type": "code",
   "execution_count": null,
   "metadata": {},
   "outputs": [],
   "source": [
    "class TestInterp(Interpolator):\n",
    "    dims_supported = ['lat', 'lon']\n",
    "    def interpolate(self, udims, source_coordinates, source_data, requested_coordinates, output_data):\n",
    "        output_data = source_data\n",
    "        return source_coordinates, source_data, output_data\n",
    "\n",
    "# test if source and data are both length one\n",
    "reqcoords = Coordinates([[-.5, 1.5, 3.5], [.5, 2.5, 4.5]], dims=['lat', 'lon'])\n",
    "srccoords = Coordinates([[0, 2, 4], [0, 3, 4]], dims=['lat', 'lon'])\n",
    "srcdata = UnitsDataArray(np.random.rand(3, 3),\n",
    "                         coords=[srccoords[c].coordinates for c in srccoords],\n",
    "                         dims=srccoords.dims)\n",
    "outdata = UnitsDataArray(np.zeros(srcdata.shape),\n",
    "                         coords=[reqcoords[c].coordinates for c in reqcoords],\n",
    "                         dims=reqcoords.dims)\n",
    "\n",
    "interp = Interpolation({('lat', 'lon'): {'method': 'test', 'interpolators': [TestInterp]}})\n",
    "\n",
    "srccoords, srcdata, outdata = interp.interpolate(srccoords, srcdata, reqcoords, outdata)"
   ]
  },
  {
   "cell_type": "markdown",
   "metadata": {},
   "source": [
    "### Stacked Coordinates"
   ]
  },
  {
   "cell_type": "code",
   "execution_count": null,
   "metadata": {},
   "outputs": [],
   "source": [
    "class TestInterp(Interpolator):\n",
    "    dims_supported = ['lat', 'lon']\n",
    "    def interpolate(self, udims, source_coordinates, source_data, requested_coordinates, output_data):\n",
    "        output_data = source_data\n",
    "        return source_coordinates, source_data, output_data\n",
    "\n",
    "# test if source and data are both length one\n",
    "reqcoords = Coordinates([(np.linspace(-25, 25, 51), np.linspace(-25, 25, 51))], dims=['lat_lon'])\n",
    "srccoords = Coordinates([(np.linspace(-20, 30, 51), np.linspace(-20, 30, 51))], dims=['lat_lon'])\n",
    "\n",
    "data = np.random.rand(21)\n",
    "lat = np.linspace(-25, 25, 21)\n",
    "lon = np.linspace(-25, 25, 21)\n",
    "\n",
    "# create podpac coordinates for data\n",
    "stacked = Coordinates([(lat, lon)], ['lat_lon'])\n",
    "\n",
    "# create node for data source\n",
    "interp = Interpolation({('lat', 'lon'): {'method': 'test', 'interpolators': [TestInterp]}})\n",
    "node = DataSource(source=data, native_coordinates=stacked, interpolation=interp)\n",
    "node.native_coordinates\n",
    "\n",
    "\n",
    "# srccoords, srcdata, outdata = interp.interpolate(srccoords, srcdata, reqcoords, outdata)"
   ]
  },
  {
   "cell_type": "code",
   "execution_count": null,
   "metadata": {},
   "outputs": [],
   "source": [
    "arr = node.create_output_array(node.native_coordinates)\n",
    "arr.reindex(method='nearest', lat=np.linspace(-10, 10, 10))"
   ]
  },
  {
   "cell_type": "code",
   "execution_count": null,
   "metadata": {},
   "outputs": [],
   "source": [
    "node.native_coordinates['lat']"
   ]
  },
  {
   "cell_type": "code",
   "execution_count": null,
   "metadata": {},
   "outputs": [],
   "source": []
  },
  {
   "cell_type": "code",
   "execution_count": null,
   "metadata": {},
   "outputs": [],
   "source": [
    "# source_coordinates = Coordinates([clinspace(-25, 25, 51), clinspace(-25, 25, 51)], dims=['lat', 'lon'])\n",
    "source_coordinates = Coordinates([(np.linspace(-25, 25, 51), np.linspace(-25, 25, 51))], dims=['lat_lon'])\n",
    "requested_coordinates = Coordinates([clinspace(-15, 15, 51), clinspace(-15, 15, 51)], dims=['lat', 'lon'])\n",
    "\n",
    "source_coordinates, source_coordinates_index = source_coordinates.intersect(requested_coordinates, outer=True, return_indices=True)\n",
    "\n",
    "new_coords =[]\n",
    "new_coords_idx = []\n",
    "for dim, idx in zip(source_coordinates, source_coordinates_index):\n",
    "    if isinstance(source_coordinates[dim], StackedCoordinates):\n",
    "        \n",
    "    \n",
    "    src_coords = source_coordinates[dim]\n",
    "    dst_coords = requested_coordinates[dim]\n",
    "\n",
    "    if isinstance(dst_coords, UniformCoordinates1d):\n",
    "        dst_start = dst_coords.start\n",
    "        dst_stop = dst_coords.stop\n",
    "        dst_delta = dst_coords.step\n",
    "    else:\n",
    "        dst_start = dst_coords.coordinates[0]\n",
    "        dst_stop = dst_coords.coordinates[-1]\n",
    "        dst_delta = (dst_stop-dst_start) / (dst_coords.size - 1)\n",
    "\n",
    "    if isinstance(src_coords, UniformCoordinates1d):\n",
    "        src_start = src_coords.start\n",
    "        src_stop = src_coords.stop\n",
    "        src_delta = src_coords.step\n",
    "    else:\n",
    "        src_start = src_coords.coordinates[0]\n",
    "        src_stop = src_coords.coordinates[-1]\n",
    "        src_delta = (src_stop-src_start) / (src_coords.size - 1)\n",
    "\n",
    "    ndelta = max(1, np.round(dst_delta / src_delta))\n",
    "\n",
    "    c = UniformCoordinates1d(src_start, src_stop, ndelta*src_delta, **src_coords.properties)\n",
    "\n",
    "    if isinstance(idx, slice):\n",
    "        idx = slice(idx.start, idx.stop, int(ndelta))\n",
    "    else:\n",
    "        idx = slice(idx[0], idx[-1], int(ndelta))\n",
    "\n",
    "    new_coords.append(c)\n",
    "    new_coords_idx.append(idx)"
   ]
  },
  {
   "cell_type": "code",
   "execution_count": null,
   "metadata": {},
   "outputs": [],
   "source": [
    "isinstance(source_coordinates['lat_lon'], StackedCoordinates)"
   ]
  },
  {
   "cell_type": "code",
   "execution_count": null,
   "metadata": {},
   "outputs": [],
   "source": [
    "[c.intersect(requested_coordinates, outer=True, return_indices=True)[1] for c in stacked._coords]"
   ]
  },
  {
   "cell_type": "code",
   "execution_count": null,
   "metadata": {},
   "outputs": [],
   "source": [
    "interp = Interpolation({('lat',): 'nearest', 'lon': 'bilinear'}, COORDINATES)"
   ]
  },
  {
   "cell_type": "code",
   "execution_count": null,
   "metadata": {},
   "outputs": [],
   "source": [
    "# create a few dummy interpolators that handle certain dimensions\n",
    "# (can_select is defined by default to look at dims_supported)\n",
    "class TimeLat(Interpolator):\n",
    "    dims_supported=['time', 'lat']\n",
    "\n",
    "class LatLon(Interpolator):\n",
    "    dims_supported=['lat', 'lon']\n",
    "    \n",
    "class Lon(Interpolator):\n",
    "    dims_supported=['lon']\n",
    "\n",
    "\n",
    "# set up a strange interpolation definition\n",
    "# we want to interpolate (lat, lon) first, then after (time, alt)\n",
    "interp = Interpolation({\n",
    "    ('lat', 'lon'): {\n",
    "        'method': 'myinterp',\n",
    "        'interpolators': [LatLon, TimeLat]\n",
    "    },\n",
    "    ('time', 'alt'): {\n",
    "        'method': 'myinterp',\n",
    "        'interpolators': [TimeLat, Lon]\n",
    "    }\n",
    "})\n",
    "\n",
    "reqcoords = Coordinates([[0, 1, 2], [0, 1, 2], [0, 1, 2], [0, 1, 2]], dims=['lat', 'lon', 'time', 'alt'])\n",
    "srccoords = Coordinates([[0, 1, 2], [0, 1, 2], [0, 1, 2], [0, 1, 2]], dims=['lat', 'lon', 'time', 'alt'])\n",
    "interpolator_queue = interp._select_interpolator_queue(reqcoords, srccoords, 'can_select', strict=True)"
   ]
  },
  {
   "cell_type": "code",
   "execution_count": 3,
   "metadata": {},
   "outputs": [],
   "source": [
    "source = np.random.rand(5,6)\n",
    "coords_src = Coordinates([np.linspace(0, 10, 5), clinspace('2018-01-01', '2018-01-09', 6)], dims=['lat', 'time'])\n",
    "node = MockArrayDataSource(source=source, native_coordinates=coords_src, interpolation={\n",
    "    'default': {\n",
    "        'method': 'nearest',\n",
    "        'params': {\n",
    "            'space_tolerance': 1.1,\n",
    "            'time_tolerance': np.timedelta64(1, 'D')\n",
    "        }\n",
    "    }\n",
    "})\n",
    "\n",
    "coords_dst = Coordinates([[1, 1.2, 1.5, 5, 9], clinspace('2018-01-01', '2018-01-09', 3)], dims=['lat', 'time'])\n",
    "# output = node.eval(coords_dst)"
   ]
  },
  {
   "cell_type": "code",
   "execution_count": 4,
   "metadata": {},
   "outputs": [
    {
     "ename": "ValueError",
     "evalue": "conflicting sizes for dimension 'time': length 6 on the data but length 9 on coordinate 'time'",
     "output_type": "error",
     "traceback": [
      "\u001b[0;31m---------------------------------------------------------------------------\u001b[0m",
      "\u001b[0;31mValueError\u001b[0m                                Traceback (most recent call last)",
      "\u001b[0;32m<ipython-input-4-910ad21e807c>\u001b[0m in \u001b[0;36m<module>\u001b[0;34m()\u001b[0m\n\u001b[0;32m----> 1\u001b[0;31m \u001b[0mnode\u001b[0m\u001b[0;34m.\u001b[0m\u001b[0meval\u001b[0m\u001b[0;34m(\u001b[0m\u001b[0mnode\u001b[0m\u001b[0;34m.\u001b[0m\u001b[0mnative_coordinates\u001b[0m\u001b[0;34m)\u001b[0m\u001b[0;34m\u001b[0m\u001b[0m\n\u001b[0m",
      "\u001b[0;32m~/computing/repositories/geospatial/podpac/podpac/core/data/datasource.py\u001b[0m in \u001b[0;36meval\u001b[0;34m(self, coordinates, output)\u001b[0m\n\u001b[1;32m    270\u001b[0m \u001b[0;34m\u001b[0m\u001b[0m\n\u001b[1;32m    271\u001b[0m         \u001b[0;31m# get data from data source\u001b[0m\u001b[0;34m\u001b[0m\u001b[0;34m\u001b[0m\u001b[0m\n\u001b[0;32m--> 272\u001b[0;31m         \u001b[0mself\u001b[0m\u001b[0;34m.\u001b[0m\u001b[0m_requested_source_data\u001b[0m \u001b[0;34m=\u001b[0m \u001b[0mself\u001b[0m\u001b[0;34m.\u001b[0m\u001b[0m_get_data\u001b[0m\u001b[0;34m(\u001b[0m\u001b[0mcoordinates\u001b[0m\u001b[0;34m)\u001b[0m\u001b[0;34m\u001b[0m\u001b[0m\n\u001b[0m\u001b[1;32m    273\u001b[0m \u001b[0;34m\u001b[0m\u001b[0m\n\u001b[1;32m    274\u001b[0m         \u001b[0;31m# if output is not input to evaluate, create it using the evaluated coordinates\u001b[0m\u001b[0;34m\u001b[0m\u001b[0;34m\u001b[0m\u001b[0m\n",
      "\u001b[0;32m~/computing/repositories/geospatial/podpac/podpac/core/data/datasource.py\u001b[0m in \u001b[0;36m_get_data\u001b[0;34m(self, coordinates)\u001b[0m\n\u001b[1;32m    322\u001b[0m         \"\"\"\n\u001b[1;32m    323\u001b[0m         \u001b[0;31m# get data from data source at requested source coordinates and requested source coordinates index\u001b[0m\u001b[0;34m\u001b[0m\u001b[0;34m\u001b[0m\u001b[0m\n\u001b[0;32m--> 324\u001b[0;31m         \u001b[0mdata\u001b[0m \u001b[0;34m=\u001b[0m \u001b[0mself\u001b[0m\u001b[0;34m.\u001b[0m\u001b[0mget_data\u001b[0m\u001b[0;34m(\u001b[0m\u001b[0mself\u001b[0m\u001b[0;34m.\u001b[0m\u001b[0m_requested_source_coordinates\u001b[0m\u001b[0;34m,\u001b[0m \u001b[0mself\u001b[0m\u001b[0;34m.\u001b[0m\u001b[0m_requested_source_coordinates_index\u001b[0m\u001b[0;34m)\u001b[0m\u001b[0;34m\u001b[0m\u001b[0m\n\u001b[0m\u001b[1;32m    325\u001b[0m \u001b[0;34m\u001b[0m\u001b[0m\n\u001b[1;32m    326\u001b[0m         \u001b[0;31m# convert data into UnitsDataArray depending on format\u001b[0m\u001b[0;34m\u001b[0m\u001b[0;34m\u001b[0m\u001b[0m\n",
      "\u001b[0;32m~/computing/repositories/geospatial/podpac/podpac/core/data/test/test_datasource.py\u001b[0m in \u001b[0;36mget_data\u001b[0;34m(self, coordinates, coordinates_index)\u001b[0m\n\u001b[1;32m     18\u001b[0m \u001b[0;32mclass\u001b[0m \u001b[0mMockArrayDataSource\u001b[0m\u001b[0;34m(\u001b[0m\u001b[0mDataSource\u001b[0m\u001b[0;34m)\u001b[0m\u001b[0;34m:\u001b[0m\u001b[0;34m\u001b[0m\u001b[0m\n\u001b[1;32m     19\u001b[0m     \u001b[0;32mdef\u001b[0m \u001b[0mget_data\u001b[0m\u001b[0;34m(\u001b[0m\u001b[0mself\u001b[0m\u001b[0;34m,\u001b[0m \u001b[0mcoordinates\u001b[0m\u001b[0;34m,\u001b[0m \u001b[0mcoordinates_index\u001b[0m\u001b[0;34m)\u001b[0m\u001b[0;34m:\u001b[0m\u001b[0;34m\u001b[0m\u001b[0m\n\u001b[0;32m---> 20\u001b[0;31m         \u001b[0;32mreturn\u001b[0m \u001b[0mself\u001b[0m\u001b[0;34m.\u001b[0m\u001b[0mcreate_output_array\u001b[0m\u001b[0;34m(\u001b[0m\u001b[0mcoordinates\u001b[0m\u001b[0;34m,\u001b[0m \u001b[0mdata\u001b[0m\u001b[0;34m=\u001b[0m\u001b[0mself\u001b[0m\u001b[0;34m.\u001b[0m\u001b[0msource\u001b[0m\u001b[0;34m[\u001b[0m\u001b[0mcoordinates_index\u001b[0m\u001b[0;34m]\u001b[0m\u001b[0;34m)\u001b[0m\u001b[0;34m\u001b[0m\u001b[0m\n\u001b[0m\u001b[1;32m     21\u001b[0m \u001b[0;34m\u001b[0m\u001b[0m\n\u001b[1;32m     22\u001b[0m \u001b[0;32mclass\u001b[0m \u001b[0mMockDataSource\u001b[0m\u001b[0;34m(\u001b[0m\u001b[0mDataSource\u001b[0m\u001b[0;34m)\u001b[0m\u001b[0;34m:\u001b[0m\u001b[0;34m\u001b[0m\u001b[0m\n",
      "\u001b[0;32m~/computing/repositories/geospatial/podpac/podpac/core/node.py\u001b[0m in \u001b[0;36mcreate_output_array\u001b[0;34m(self, coords, data, **kwargs)\u001b[0m\n\u001b[1;32m    225\u001b[0m \u001b[0;34m\u001b[0m\u001b[0m\n\u001b[1;32m    226\u001b[0m         \u001b[0mattrs\u001b[0m \u001b[0;34m=\u001b[0m \u001b[0;34m{\u001b[0m\u001b[0;34m'layer_style'\u001b[0m\u001b[0;34m:\u001b[0m \u001b[0mself\u001b[0m\u001b[0;34m.\u001b[0m\u001b[0mstyle\u001b[0m\u001b[0;34m,\u001b[0m \u001b[0;34m'units'\u001b[0m\u001b[0;34m:\u001b[0m \u001b[0mself\u001b[0m\u001b[0;34m.\u001b[0m\u001b[0munits\u001b[0m\u001b[0;34m}\u001b[0m\u001b[0;34m\u001b[0m\u001b[0m\n\u001b[0;32m--> 227\u001b[0;31m         \u001b[0;32mreturn\u001b[0m \u001b[0mcreate_data_array\u001b[0m\u001b[0;34m(\u001b[0m\u001b[0mcoords\u001b[0m\u001b[0;34m,\u001b[0m \u001b[0mdata\u001b[0m\u001b[0;34m=\u001b[0m\u001b[0mdata\u001b[0m\u001b[0;34m,\u001b[0m \u001b[0mdtype\u001b[0m\u001b[0;34m=\u001b[0m\u001b[0mself\u001b[0m\u001b[0;34m.\u001b[0m\u001b[0mdtype\u001b[0m\u001b[0;34m,\u001b[0m \u001b[0mattrs\u001b[0m\u001b[0;34m=\u001b[0m\u001b[0mattrs\u001b[0m\u001b[0;34m,\u001b[0m \u001b[0;34m**\u001b[0m\u001b[0mkwargs\u001b[0m\u001b[0;34m)\u001b[0m\u001b[0;34m\u001b[0m\u001b[0m\n\u001b[0m\u001b[1;32m    228\u001b[0m \u001b[0;34m\u001b[0m\u001b[0m\n\u001b[1;32m    229\u001b[0m     \u001b[0;31m# -----------------------------------------------------------------------------------------------------------------\u001b[0m\u001b[0;34m\u001b[0m\u001b[0;34m\u001b[0m\u001b[0m\n",
      "\u001b[0;32m~/computing/repositories/geospatial/podpac/podpac/core/units.py\u001b[0m in \u001b[0;36mcreate_data_array\u001b[0;34m(coords, data, dtype, **kwargs)\u001b[0m\n\u001b[1;32m    306\u001b[0m         \u001b[0mdata\u001b[0m \u001b[0;34m=\u001b[0m \u001b[0mdata\u001b[0m\u001b[0;34m.\u001b[0m\u001b[0mastype\u001b[0m\u001b[0;34m(\u001b[0m\u001b[0mdtype\u001b[0m\u001b[0;34m)\u001b[0m\u001b[0;34m\u001b[0m\u001b[0m\n\u001b[1;32m    307\u001b[0m \u001b[0;34m\u001b[0m\u001b[0m\n\u001b[0;32m--> 308\u001b[0;31m     \u001b[0;32mreturn\u001b[0m \u001b[0mUnitsDataArray\u001b[0m\u001b[0;34m(\u001b[0m\u001b[0mdata\u001b[0m\u001b[0;34m,\u001b[0m \u001b[0mcoords\u001b[0m\u001b[0;34m=\u001b[0m\u001b[0mcoords\u001b[0m\u001b[0;34m.\u001b[0m\u001b[0mcoords\u001b[0m\u001b[0;34m,\u001b[0m \u001b[0mdims\u001b[0m\u001b[0;34m=\u001b[0m\u001b[0mcoords\u001b[0m\u001b[0;34m.\u001b[0m\u001b[0mdims\u001b[0m\u001b[0;34m,\u001b[0m \u001b[0;34m**\u001b[0m\u001b[0mkwargs\u001b[0m\u001b[0;34m)\u001b[0m\u001b[0;34m\u001b[0m\u001b[0m\n\u001b[0m\u001b[1;32m    309\u001b[0m \u001b[0;34m\u001b[0m\u001b[0m\n\u001b[1;32m    310\u001b[0m \u001b[0;32mdef\u001b[0m \u001b[0mget_image\u001b[0m\u001b[0;34m(\u001b[0m\u001b[0mdata\u001b[0m\u001b[0;34m,\u001b[0m \u001b[0mformat\u001b[0m\u001b[0;34m=\u001b[0m\u001b[0;34m'png'\u001b[0m\u001b[0;34m,\u001b[0m \u001b[0mvmin\u001b[0m\u001b[0;34m=\u001b[0m\u001b[0;32mNone\u001b[0m\u001b[0;34m,\u001b[0m \u001b[0mvmax\u001b[0m\u001b[0;34m=\u001b[0m\u001b[0;32mNone\u001b[0m\u001b[0;34m)\u001b[0m\u001b[0;34m:\u001b[0m\u001b[0;34m\u001b[0m\u001b[0m\n",
      "\u001b[0;32m~/computing/python/anaconda3/envs/podpac2/lib/python3.6/site-packages/xarray/core/dataarray.py\u001b[0m in \u001b[0;36m__init__\u001b[0;34m(self, data, coords, dims, name, attrs, encoding, fastpath)\u001b[0m\n\u001b[1;32m    225\u001b[0m \u001b[0;34m\u001b[0m\u001b[0m\n\u001b[1;32m    226\u001b[0m             \u001b[0mdata\u001b[0m \u001b[0;34m=\u001b[0m \u001b[0mas_compatible_data\u001b[0m\u001b[0;34m(\u001b[0m\u001b[0mdata\u001b[0m\u001b[0;34m)\u001b[0m\u001b[0;34m\u001b[0m\u001b[0m\n\u001b[0;32m--> 227\u001b[0;31m             \u001b[0mcoords\u001b[0m\u001b[0;34m,\u001b[0m \u001b[0mdims\u001b[0m \u001b[0;34m=\u001b[0m \u001b[0m_infer_coords_and_dims\u001b[0m\u001b[0;34m(\u001b[0m\u001b[0mdata\u001b[0m\u001b[0;34m.\u001b[0m\u001b[0mshape\u001b[0m\u001b[0;34m,\u001b[0m \u001b[0mcoords\u001b[0m\u001b[0;34m,\u001b[0m \u001b[0mdims\u001b[0m\u001b[0;34m)\u001b[0m\u001b[0;34m\u001b[0m\u001b[0m\n\u001b[0m\u001b[1;32m    228\u001b[0m             \u001b[0mvariable\u001b[0m \u001b[0;34m=\u001b[0m \u001b[0mVariable\u001b[0m\u001b[0;34m(\u001b[0m\u001b[0mdims\u001b[0m\u001b[0;34m,\u001b[0m \u001b[0mdata\u001b[0m\u001b[0;34m,\u001b[0m \u001b[0mattrs\u001b[0m\u001b[0;34m,\u001b[0m \u001b[0mencoding\u001b[0m\u001b[0;34m,\u001b[0m \u001b[0mfastpath\u001b[0m\u001b[0;34m=\u001b[0m\u001b[0;32mTrue\u001b[0m\u001b[0;34m)\u001b[0m\u001b[0;34m\u001b[0m\u001b[0m\n\u001b[1;32m    229\u001b[0m \u001b[0;34m\u001b[0m\u001b[0m\n",
      "\u001b[0;32m~/computing/python/anaconda3/envs/podpac2/lib/python3.6/site-packages/xarray/core/dataarray.py\u001b[0m in \u001b[0;36m_infer_coords_and_dims\u001b[0;34m(shape, coords, dims)\u001b[0m\n\u001b[1;32m     80\u001b[0m                 raise ValueError('conflicting sizes for dimension %r: '\n\u001b[1;32m     81\u001b[0m                                  \u001b[0;34m'length %s on the data but length %s on '\u001b[0m\u001b[0;34m\u001b[0m\u001b[0m\n\u001b[0;32m---> 82\u001b[0;31m                                  'coordinate %r' % (d, sizes[d], s, k))\n\u001b[0m\u001b[1;32m     83\u001b[0m \u001b[0;34m\u001b[0m\u001b[0m\n\u001b[1;32m     84\u001b[0m         \u001b[0;32mif\u001b[0m \u001b[0mk\u001b[0m \u001b[0;32min\u001b[0m \u001b[0msizes\u001b[0m \u001b[0;32mand\u001b[0m \u001b[0mv\u001b[0m\u001b[0;34m.\u001b[0m\u001b[0mshape\u001b[0m \u001b[0;34m!=\u001b[0m \u001b[0;34m(\u001b[0m\u001b[0msizes\u001b[0m\u001b[0;34m[\u001b[0m\u001b[0mk\u001b[0m\u001b[0;34m]\u001b[0m\u001b[0;34m,\u001b[0m\u001b[0;34m)\u001b[0m\u001b[0;34m:\u001b[0m\u001b[0;34m\u001b[0m\u001b[0m\n",
      "\u001b[0;31mValueError\u001b[0m: conflicting sizes for dimension 'time': length 6 on the data but length 9 on coordinate 'time'"
     ]
    }
   ],
   "source": [
    "node.eval(node.native_coordinates)"
   ]
  },
  {
   "cell_type": "code",
   "execution_count": 5,
   "metadata": {},
   "outputs": [
    {
     "data": {
      "text/plain": [
       "Coordinates\n",
       "\tlat: ArrayCoordinates1d(lat): Bounds[0.0, 10.0], N[5], ctype['midpoint']\n",
       "\ttime: UniformCoordinates1d(time): Bounds[2018-01-01, 2018-01-09], N[9], ctype['midpoint']"
      ]
     },
     "execution_count": 5,
     "metadata": {},
     "output_type": "execute_result"
    }
   ],
   "source": [
    "node.native_coordinates"
   ]
  },
  {
   "cell_type": "code",
   "execution_count": 15,
   "metadata": {},
   "outputs": [
    {
     "data": {
      "text/plain": [
       "UniformCoordinates1d(?): Bounds[2018-01-01, 2018-01-09], N[5], ctype['midpoint']"
      ]
     },
     "execution_count": 15,
     "metadata": {},
     "output_type": "execute_result"
    }
   ],
   "source": [
    "clinspace('2018-01-01', '2018-01-09', 4)"
   ]
  },
  {
   "cell_type": "code",
   "execution_count": null,
   "metadata": {},
   "outputs": [],
   "source": []
  }
 ],
 "metadata": {
  "kernelspec": {
   "display_name": "Python 3",
   "language": "python",
   "name": "python3"
  },
  "language_info": {
   "codemirror_mode": {
    "name": "ipython",
    "version": 3
   },
   "file_extension": ".py",
   "mimetype": "text/x-python",
   "name": "python",
   "nbconvert_exporter": "python",
   "pygments_lexer": "ipython3",
   "version": "3.6.5"
  }
 },
 "nbformat": 4,
 "nbformat_minor": 2
}
