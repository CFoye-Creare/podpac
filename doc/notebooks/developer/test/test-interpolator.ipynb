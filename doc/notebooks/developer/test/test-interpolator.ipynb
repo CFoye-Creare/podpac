{
 "cells": [
  {
   "cell_type": "code",
   "execution_count": 1,
   "metadata": {},
   "outputs": [],
   "source": [
    "from podpac.core.coordinates import Coordinates, clinspace, UniformCoordinates1d, StackedCoordinates\n",
    "from podpac.core.data import interpolate\n",
    "from podpac.core.data.interpolate import (Interpolation, InterpolationException,\n",
    "                                          Interpolator, INTERPOLATION_METHODS,\n",
    "                                          INTERPOLATION_SHORTCUTS, NearestNeighbor)\n",
    "from podpac.core.data.datasource import DataSource\n",
    "from podpac.core.units import UnitsDataArray\n",
    "\n",
    "import numpy as np"
   ]
  },
  {
   "cell_type": "code",
   "execution_count": 16,
   "metadata": {},
   "outputs": [],
   "source": [
    "reqcoords = Coordinates([[-.5, 1.5, 3.5], [.5, 2.5, 4.5]], dims=['lat', 'lon'])\n",
    "srccoords = Coordinates([[0, 1, 2, 3, 4, 5], [0, 1, 2, 3, 4, 5]], dims=['lat', 'lon'])\n",
    "\n",
    "interp = Interpolation('nearest_preview')\n",
    "\n",
    "srccoords, srccoords_index = srccoords.intersect(reqcoords, outer=True, return_indices=True)\n",
    "coords, cidx = interp.select_coordinates(reqcoords, srccoords, srccoords_index)"
   ]
  },
  {
   "cell_type": "code",
   "execution_count": 29,
   "metadata": {},
   "outputs": [],
   "source": [
    "# test when selection is applied serially\n",
    "reqcoords = Coordinates([[-.5, 1.5, 3.5], [.5, 2.5, 4.5]], dims=['lat', 'lon'])\n",
    "srccoords = Coordinates([[0, 1, 2, 3, 4, 5], [0, 1, 2, 3, 4, 5]], dims=['lat', 'lon'])\n",
    "\n",
    "interp = Interpolation({\n",
    "    'lat': 'nearest_preview',\n",
    "    'lon': 'nearest_preview'\n",
    "})\n",
    "\n",
    "srccoords, srccoords_index = srccoords.intersect(reqcoords, outer=True, return_indices=True)\n",
    "coords, cidx = interp.select_coordinates(reqcoords, srccoords, srccoords_index)"
   ]
  },
  {
   "cell_type": "code",
   "execution_count": 31,
   "metadata": {},
   "outputs": [
    {
     "name": "stdout",
     "output_type": "stream",
     "text": [
      "lat_lon\n",
      "slice(0, 5, None)\n"
     ]
    }
   ],
   "source": [
    "reqcoords = Coordinates([[-.5, 1.5, 3.5], [.5, 2.5, 4.5]], dims=['lat', 'lon'])\n",
    "srccoords = Coordinates([([0, 1, 2, 3, 4, 5], [0, 1, 2, 3, 4, 5])], dims=['lat_lon'])\n",
    "srccoords, srccoords_index = srccoords.intersect(reqcoords, outer=True, return_indices=True)\n",
    "\n",
    "for src_dim, idx in zip(srccoords, srccoords_index):\n",
    "    print(src_dim)\n",
    "    print(idx)"
   ]
  },
  {
   "cell_type": "code",
   "execution_count": 30,
   "metadata": {},
   "outputs": [
    {
     "data": {
      "text/plain": [
       "True"
      ]
     },
     "execution_count": 30,
     "metadata": {},
     "output_type": "execute_result"
    }
   ],
   "source": [
    "len(reqcoords['lat'])\n",
    "np.all(coords['lat'].coordinates == np.array([0, 2, 4]))"
   ]
  },
  {
   "cell_type": "code",
   "execution_count": 5,
   "metadata": {},
   "outputs": [],
   "source": [
    "class TestInterp(Interpolator):\n",
    "    dims_supported = ['lat', 'lon']\n",
    "    def interpolate(self, udims, source_coordinates, source_data, requested_coordinates, output_data):\n",
    "        output_data = source_data\n",
    "        return source_coordinates, source_data, output_data\n",
    "\n",
    "# test if source and data are both length one\n",
    "reqcoords = Coordinates([[-.5, 1.5, 3.5], [.5, 2.5, 4.5]], dims=['lat', 'lon'])\n",
    "srccoords = Coordinates([[0, 2, 4], [0, 3, 4]], dims=['lat', 'lon'])\n",
    "srcdata = UnitsDataArray(np.random.rand(3, 3),\n",
    "                         coords=[srccoords[c].coordinates for c in srccoords],\n",
    "                         dims=srccoords.dims)\n",
    "outdata = UnitsDataArray(np.zeros(srcdata.shape),\n",
    "                         coords=[reqcoords[c].coordinates for c in reqcoords],\n",
    "                         dims=reqcoords.dims)\n",
    "\n",
    "interp = Interpolation({('lat', 'lon'): {'method': 'test', 'interpolators': [TestInterp]}})\n",
    "\n",
    "outdata = interp.interpolate(srccoords, srcdata, reqcoords, outdata)"
   ]
  },
  {
   "cell_type": "code",
   "execution_count": 8,
   "metadata": {},
   "outputs": [
    {
     "data": {
      "text/plain": [
       "True"
      ]
     },
     "execution_count": 8,
     "metadata": {},
     "output_type": "execute_result"
    }
   ],
   "source": [
    "np.all(outdata == srcdata)"
   ]
  },
  {
   "cell_type": "code",
   "execution_count": 3,
   "metadata": {},
   "outputs": [
    {
     "name": "stdout",
     "output_type": "stream",
     "text": [
      "lat_lon\n",
      "slice(9, 42, None)\n"
     ]
    },
    {
     "ename": "KeyError",
     "evalue": "\"dimension 'lat_lon' not found in Coordinates ('lat', 'lon')\"",
     "output_type": "error",
     "traceback": [
      "\u001b[0;31m---------------------------------------------------------------------------\u001b[0m",
      "\u001b[0;31mKeyError\u001b[0m                                  Traceback (most recent call last)",
      "\u001b[0;32m<ipython-input-3-de3835ea2739>\u001b[0m in \u001b[0;36m<module>\u001b[0;34m()\u001b[0m\n\u001b[1;32m     11\u001b[0m     \u001b[0mprint\u001b[0m\u001b[0;34m(\u001b[0m\u001b[0midx\u001b[0m\u001b[0;34m)\u001b[0m\u001b[0;34m\u001b[0m\u001b[0m\n\u001b[1;32m     12\u001b[0m     \u001b[0msrc_coords\u001b[0m \u001b[0;34m=\u001b[0m \u001b[0msource_coordinates\u001b[0m\u001b[0;34m[\u001b[0m\u001b[0mdim\u001b[0m\u001b[0;34m]\u001b[0m\u001b[0;34m\u001b[0m\u001b[0m\n\u001b[0;32m---> 13\u001b[0;31m     \u001b[0mdst_coords\u001b[0m \u001b[0;34m=\u001b[0m \u001b[0mrequested_coordinates\u001b[0m\u001b[0;34m[\u001b[0m\u001b[0mdim\u001b[0m\u001b[0;34m]\u001b[0m\u001b[0;34m\u001b[0m\u001b[0m\n\u001b[0m\u001b[1;32m     14\u001b[0m \u001b[0;34m\u001b[0m\u001b[0m\n\u001b[1;32m     15\u001b[0m     \u001b[0;32mif\u001b[0m \u001b[0misinstance\u001b[0m\u001b[0;34m(\u001b[0m\u001b[0mdst_coords\u001b[0m\u001b[0;34m,\u001b[0m \u001b[0mUniformCoordinates1d\u001b[0m\u001b[0;34m)\u001b[0m\u001b[0;34m:\u001b[0m\u001b[0;34m\u001b[0m\u001b[0m\n",
      "\u001b[0;32m~/computing/repositories/geospatial/podpac/podpac/core/coordinates/coordinates.py\u001b[0m in \u001b[0;36m__getitem__\u001b[0;34m(self, dim)\u001b[0m\n\u001b[1;32m    239\u001b[0m                 \u001b[0;32mreturn\u001b[0m \u001b[0mc\u001b[0m\u001b[0;34m[\u001b[0m\u001b[0mdim\u001b[0m\u001b[0;34m]\u001b[0m\u001b[0;34m\u001b[0m\u001b[0m\n\u001b[1;32m    240\u001b[0m \u001b[0;34m\u001b[0m\u001b[0m\n\u001b[0;32m--> 241\u001b[0;31m         \u001b[0;32mraise\u001b[0m \u001b[0mKeyError\u001b[0m\u001b[0;34m(\u001b[0m\u001b[0;34m\"dimension '%s' not found in Coordinates %s\"\u001b[0m \u001b[0;34m%\u001b[0m \u001b[0;34m(\u001b[0m\u001b[0mdim\u001b[0m\u001b[0;34m,\u001b[0m \u001b[0mself\u001b[0m\u001b[0;34m.\u001b[0m\u001b[0mdims\u001b[0m\u001b[0;34m)\u001b[0m\u001b[0;34m)\u001b[0m\u001b[0;34m\u001b[0m\u001b[0m\n\u001b[0m\u001b[1;32m    242\u001b[0m \u001b[0;34m\u001b[0m\u001b[0m\n\u001b[1;32m    243\u001b[0m     \u001b[0;32mdef\u001b[0m \u001b[0m__setitem__\u001b[0m\u001b[0;34m(\u001b[0m\u001b[0mself\u001b[0m\u001b[0;34m,\u001b[0m \u001b[0mdim\u001b[0m\u001b[0;34m,\u001b[0m \u001b[0mc\u001b[0m\u001b[0;34m)\u001b[0m\u001b[0;34m:\u001b[0m\u001b[0;34m\u001b[0m\u001b[0m\n",
      "\u001b[0;31mKeyError\u001b[0m: \"dimension 'lat_lon' not found in Coordinates ('lat', 'lon')\""
     ]
    }
   ],
   "source": [
    "# source_coordinates = Coordinates([clinspace(-25, 25, 51), clinspace(-25, 25, 51)], dims=['lat', 'lon'])\n",
    "source_coordinates = Coordinates([(np.linspace(-25, 25, 51), np.linspace(-25, 25, 51))], dims=['lat_lon'])\n",
    "requested_coordinates = Coordinates([clinspace(-15, 15, 51), clinspace(-15, 15, 51)], dims=['lat', 'lon'])\n",
    "\n",
    "source_coordinates, source_coordinates_index = source_coordinates.intersect(requested_coordinates, outer=True, return_indices=True)\n",
    "\n",
    "new_coords =[]\n",
    "new_coords_idx = []\n",
    "for dim, idx in zip(source_coordinates, source_coordinates_index):\n",
    "    if isinstance(source_coordinates[dim], StackedCoordinates):\n",
    "        \n",
    "    \n",
    "    src_coords = source_coordinates[dim]\n",
    "    dst_coords = requested_coordinates[dim]\n",
    "\n",
    "    if isinstance(dst_coords, UniformCoordinates1d):\n",
    "        dst_start = dst_coords.start\n",
    "        dst_stop = dst_coords.stop\n",
    "        dst_delta = dst_coords.step\n",
    "    else:\n",
    "        dst_start = dst_coords.coordinates[0]\n",
    "        dst_stop = dst_coords.coordinates[-1]\n",
    "        dst_delta = (dst_stop-dst_start) / (dst_coords.size - 1)\n",
    "\n",
    "    if isinstance(src_coords, UniformCoordinates1d):\n",
    "        src_start = src_coords.start\n",
    "        src_stop = src_coords.stop\n",
    "        src_delta = src_coords.step\n",
    "    else:\n",
    "        src_start = src_coords.coordinates[0]\n",
    "        src_stop = src_coords.coordinates[-1]\n",
    "        src_delta = (src_stop-src_start) / (src_coords.size - 1)\n",
    "\n",
    "    ndelta = max(1, np.round(dst_delta / src_delta))\n",
    "\n",
    "    c = UniformCoordinates1d(src_start, src_stop, ndelta*src_delta, **src_coords.properties)\n",
    "\n",
    "    if isinstance(idx, slice):\n",
    "        idx = slice(idx.start, idx.stop, int(ndelta))\n",
    "    else:\n",
    "        idx = slice(idx[0], idx[-1], int(ndelta))\n",
    "\n",
    "    new_coords.append(c)\n",
    "    new_coords_idx.append(idx)"
   ]
  },
  {
   "cell_type": "code",
   "execution_count": 11,
   "metadata": {},
   "outputs": [
    {
     "data": {
      "text/plain": [
       "True"
      ]
     },
     "execution_count": 11,
     "metadata": {},
     "output_type": "execute_result"
    }
   ],
   "source": [
    "isinstance(source_coordinates['lat_lon'], StackedCoordinates)"
   ]
  },
  {
   "cell_type": "code",
   "execution_count": 12,
   "metadata": {},
   "outputs": [
    {
     "name": "stdout",
     "output_type": "stream",
     "text": [
      "slice(9, 42, None)\n",
      "[-16. -15. -14. -13. -12. -11. -10.  -9.  -8.  -7.  -6.  -5.  -4.  -3.\n",
      "  -2.  -1.   0.   1.   2.   3.   4.   5.   6.   7.   8.   9.  10.  11.\n",
      "  12.  13.  14.  15.  16.]\n",
      "ArrayCoordinates1d(lat): Bounds[-16.0, 16.0], N[33], ctype['midpoint']\n",
      "slice(9, 42, None)\n",
      "[-16. -15. -14. -13. -12. -11. -10.  -9.  -8.  -7.  -6.  -5.  -4.  -3.\n",
      "  -2.  -1.   0.   1.   2.   3.   4.   5.   6.   7.   8.   9.  10.  11.\n",
      "  12.  13.  14.  15.  16.]\n",
      "ArrayCoordinates1d(lon): Bounds[-16.0, 16.0], N[33], ctype['midpoint']\n"
     ]
    },
    {
     "data": {
      "text/plain": [
       "[slice(9, 42, None), slice(9, 42, None)]"
      ]
     },
     "execution_count": 12,
     "metadata": {},
     "output_type": "execute_result"
    }
   ],
   "source": [
    "[c.intersect(requested_coordinates, outer=True, return_indices=True)[1] for c in stacked._coords]"
   ]
  },
  {
   "cell_type": "code",
   "execution_count": 6,
   "metadata": {},
   "outputs": [],
   "source": [
    "interp = Interpolation({('lat',): 'nearest', 'lon': 'bilinear'}, COORDINATES)"
   ]
  },
  {
   "cell_type": "code",
   "execution_count": 2,
   "metadata": {},
   "outputs": [
    {
     "ename": "InterpolationException",
     "evalue": "Requested dimensions ['alt', 'time'] can't be handled by interpolation definition:\n Interpolation\n\t('lat', 'lon'): myinterp, ['LatLon', 'TimeLat'], {}\n\t('time', 'alt'): myinterp, ['TimeLat', 'Lon'], {}\n\t('default',): nearest, ['NearestNeighbor'], {}",
     "output_type": "error",
     "traceback": [
      "\u001b[0;31m---------------------------------------------------------------------------\u001b[0m",
      "\u001b[0;31mInterpolationException\u001b[0m                    Traceback (most recent call last)",
      "\u001b[0;32m<ipython-input-2-6f438a2dcf41>\u001b[0m in \u001b[0;36m<module>\u001b[0;34m()\u001b[0m\n\u001b[1;32m     26\u001b[0m \u001b[0mreqcoords\u001b[0m \u001b[0;34m=\u001b[0m \u001b[0mCoordinates\u001b[0m\u001b[0;34m(\u001b[0m\u001b[0;34m[\u001b[0m\u001b[0;34m[\u001b[0m\u001b[0;36m0\u001b[0m\u001b[0;34m,\u001b[0m \u001b[0;36m1\u001b[0m\u001b[0;34m,\u001b[0m \u001b[0;36m2\u001b[0m\u001b[0;34m]\u001b[0m\u001b[0;34m,\u001b[0m \u001b[0;34m[\u001b[0m\u001b[0;36m0\u001b[0m\u001b[0;34m,\u001b[0m \u001b[0;36m1\u001b[0m\u001b[0;34m,\u001b[0m \u001b[0;36m2\u001b[0m\u001b[0;34m]\u001b[0m\u001b[0;34m,\u001b[0m \u001b[0;34m[\u001b[0m\u001b[0;36m0\u001b[0m\u001b[0;34m,\u001b[0m \u001b[0;36m1\u001b[0m\u001b[0;34m,\u001b[0m \u001b[0;36m2\u001b[0m\u001b[0;34m]\u001b[0m\u001b[0;34m,\u001b[0m \u001b[0;34m[\u001b[0m\u001b[0;36m0\u001b[0m\u001b[0;34m,\u001b[0m \u001b[0;36m1\u001b[0m\u001b[0;34m,\u001b[0m \u001b[0;36m2\u001b[0m\u001b[0;34m]\u001b[0m\u001b[0;34m]\u001b[0m\u001b[0;34m,\u001b[0m \u001b[0mdims\u001b[0m\u001b[0;34m=\u001b[0m\u001b[0;34m[\u001b[0m\u001b[0;34m'lat'\u001b[0m\u001b[0;34m,\u001b[0m \u001b[0;34m'lon'\u001b[0m\u001b[0;34m,\u001b[0m \u001b[0;34m'time'\u001b[0m\u001b[0;34m,\u001b[0m \u001b[0;34m'alt'\u001b[0m\u001b[0;34m]\u001b[0m\u001b[0;34m)\u001b[0m\u001b[0;34m\u001b[0m\u001b[0m\n\u001b[1;32m     27\u001b[0m \u001b[0msrccoords\u001b[0m \u001b[0;34m=\u001b[0m \u001b[0mCoordinates\u001b[0m\u001b[0;34m(\u001b[0m\u001b[0;34m[\u001b[0m\u001b[0;34m[\u001b[0m\u001b[0;36m0\u001b[0m\u001b[0;34m,\u001b[0m \u001b[0;36m1\u001b[0m\u001b[0;34m,\u001b[0m \u001b[0;36m2\u001b[0m\u001b[0;34m]\u001b[0m\u001b[0;34m,\u001b[0m \u001b[0;34m[\u001b[0m\u001b[0;36m0\u001b[0m\u001b[0;34m,\u001b[0m \u001b[0;36m1\u001b[0m\u001b[0;34m,\u001b[0m \u001b[0;36m2\u001b[0m\u001b[0;34m]\u001b[0m\u001b[0;34m,\u001b[0m \u001b[0;34m[\u001b[0m\u001b[0;36m0\u001b[0m\u001b[0;34m,\u001b[0m \u001b[0;36m1\u001b[0m\u001b[0;34m,\u001b[0m \u001b[0;36m2\u001b[0m\u001b[0;34m]\u001b[0m\u001b[0;34m,\u001b[0m \u001b[0;34m[\u001b[0m\u001b[0;36m0\u001b[0m\u001b[0;34m,\u001b[0m \u001b[0;36m1\u001b[0m\u001b[0;34m,\u001b[0m \u001b[0;36m2\u001b[0m\u001b[0;34m]\u001b[0m\u001b[0;34m]\u001b[0m\u001b[0;34m,\u001b[0m \u001b[0mdims\u001b[0m\u001b[0;34m=\u001b[0m\u001b[0;34m[\u001b[0m\u001b[0;34m'lat'\u001b[0m\u001b[0;34m,\u001b[0m \u001b[0;34m'lon'\u001b[0m\u001b[0;34m,\u001b[0m \u001b[0;34m'time'\u001b[0m\u001b[0;34m,\u001b[0m \u001b[0;34m'alt'\u001b[0m\u001b[0;34m]\u001b[0m\u001b[0;34m)\u001b[0m\u001b[0;34m\u001b[0m\u001b[0m\n\u001b[0;32m---> 28\u001b[0;31m \u001b[0minterpolator_queue\u001b[0m \u001b[0;34m=\u001b[0m \u001b[0minterp\u001b[0m\u001b[0;34m.\u001b[0m\u001b[0m_select_interpolator_queue\u001b[0m\u001b[0;34m(\u001b[0m\u001b[0mreqcoords\u001b[0m\u001b[0;34m,\u001b[0m \u001b[0msrccoords\u001b[0m\u001b[0;34m,\u001b[0m \u001b[0;34m'can_select'\u001b[0m\u001b[0;34m,\u001b[0m \u001b[0mstrict\u001b[0m\u001b[0;34m=\u001b[0m\u001b[0;32mTrue\u001b[0m\u001b[0;34m)\u001b[0m\u001b[0;34m\u001b[0m\u001b[0m\n\u001b[0m",
      "\u001b[0;32m~/computing/repositories/geospatial/podpac/podpac/core/data/interpolate.py\u001b[0m in \u001b[0;36m_select_interpolator_queue\u001b[0;34m(self, requested_coordinates, source_coordinates, select_method, strict)\u001b[0m\n\u001b[1;32m    668\u001b[0m             \u001b[0mmissing_dims\u001b[0m \u001b[0;34m=\u001b[0m \u001b[0mlist\u001b[0m\u001b[0;34m(\u001b[0m\u001b[0mrequested_dims\u001b[0m \u001b[0;34m-\u001b[0m \u001b[0mhandled_dims\u001b[0m\u001b[0;34m)\u001b[0m\u001b[0;34m\u001b[0m\u001b[0m\n\u001b[1;32m    669\u001b[0m             raise InterpolationException('Requested dimensions {} '.format(missing_dims) +\n\u001b[0;32m--> 670\u001b[0;31m                                          'can\\'t be handled by interpolation definition:\\n {}'.format(self))\n\u001b[0m\u001b[1;32m    671\u001b[0m \u001b[0;34m\u001b[0m\u001b[0m\n\u001b[1;32m    672\u001b[0m         \u001b[0;31m# TODO: adjust by interpolation cost\u001b[0m\u001b[0;34m\u001b[0m\u001b[0;34m\u001b[0m\u001b[0m\n",
      "\u001b[0;31mInterpolationException\u001b[0m: Requested dimensions ['alt', 'time'] can't be handled by interpolation definition:\n Interpolation\n\t('lat', 'lon'): myinterp, ['LatLon', 'TimeLat'], {}\n\t('time', 'alt'): myinterp, ['TimeLat', 'Lon'], {}\n\t('default',): nearest, ['NearestNeighbor'], {}"
     ]
    }
   ],
   "source": [
    "# create a few dummy interpolators that handle certain dimensions\n",
    "# (can_select is defined by default to look at dims_supported)\n",
    "class TimeLat(Interpolator):\n",
    "    dims_supported=['time', 'lat']\n",
    "\n",
    "class LatLon(Interpolator):\n",
    "    dims_supported=['lat', 'lon']\n",
    "    \n",
    "class Lon(Interpolator):\n",
    "    dims_supported=['lon']\n",
    "\n",
    "\n",
    "# set up a strange interpolation definition\n",
    "# we want to interpolate (lat, lon) first, then after (time, alt)\n",
    "interp = Interpolation({\n",
    "    ('lat', 'lon'): {\n",
    "        'method': 'myinterp',\n",
    "        'interpolators': [LatLon, TimeLat]\n",
    "    },\n",
    "    ('time', 'alt'): {\n",
    "        'method': 'myinterp',\n",
    "        'interpolators': [TimeLat, Lon]\n",
    "    }\n",
    "})\n",
    "\n",
    "reqcoords = Coordinates([[0, 1, 2], [0, 1, 2], [0, 1, 2], [0, 1, 2]], dims=['lat', 'lon', 'time', 'alt'])\n",
    "srccoords = Coordinates([[0, 1, 2], [0, 1, 2], [0, 1, 2], [0, 1, 2]], dims=['lat', 'lon', 'time', 'alt'])\n",
    "interpolator_queue = interp._select_interpolator_queue(reqcoords, srccoords, 'can_select', strict=True)"
   ]
  }
 ],
 "metadata": {
  "kernelspec": {
   "display_name": "Python 3",
   "language": "python",
   "name": "python3"
  },
  "language_info": {
   "codemirror_mode": {
    "name": "ipython",
    "version": 3
   },
   "file_extension": ".py",
   "mimetype": "text/x-python",
   "name": "python",
   "nbconvert_exporter": "python",
   "pygments_lexer": "ipython3",
   "version": "3.6.5"
  }
 },
 "nbformat": 4,
 "nbformat_minor": 2
}
