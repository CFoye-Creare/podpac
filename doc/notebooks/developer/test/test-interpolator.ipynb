{
 "cells": [
  {
   "cell_type": "code",
   "execution_count": 1,
   "metadata": {},
   "outputs": [],
   "source": [
    "from podpac.core.coordinates import Coordinates, clinspace, UniformCoordinates1d, StackedCoordinates\n",
    "from podpac.core.data import interpolate\n",
    "from podpac.core.data.interpolate import (Interpolation, InterpolationException,\n",
    "                                          Interpolator, INTERPOLATION_METHODS,\n",
    "                                          INTERPOLATION_SHORTCUTS, NearestNeighbor)\n",
    "import numpy as np"
   ]
  },
  {
   "cell_type": "code",
   "execution_count": 2,
   "metadata": {},
   "outputs": [],
   "source": [
    "COORDINATES = Coordinates([clinspace(-25, 25, 11), clinspace(-25, 25, 11)], dims=['lat', 'lon'])\n",
    "STACKED_COORDINATES = Coordinates([([1,2,3,4,5], [0,1,2,3,4])], dims=['lat_lon'])"
   ]
  },
  {
   "cell_type": "code",
   "execution_count": 5,
   "metadata": {},
   "outputs": [
    {
     "data": {
      "text/plain": [
       "False"
      ]
     },
     "execution_count": 5,
     "metadata": {},
     "output_type": "execute_result"
    }
   ],
   "source": [
    "STACKED_COORDINATES['lat'].is_stacked\n",
    "COORDINATES['lat'].is_stacked"
   ]
  },
  {
   "cell_type": "code",
   "execution_count": 3,
   "metadata": {},
   "outputs": [
    {
     "name": "stdout",
     "output_type": "stream",
     "text": [
      "lat_lon\n",
      "slice(9, 42, None)\n"
     ]
    },
    {
     "ename": "KeyError",
     "evalue": "\"dimension 'lat_lon' not found in Coordinates ('lat', 'lon')\"",
     "output_type": "error",
     "traceback": [
      "\u001b[0;31m---------------------------------------------------------------------------\u001b[0m",
      "\u001b[0;31mKeyError\u001b[0m                                  Traceback (most recent call last)",
      "\u001b[0;32m<ipython-input-3-de3835ea2739>\u001b[0m in \u001b[0;36m<module>\u001b[0;34m()\u001b[0m\n\u001b[1;32m     11\u001b[0m     \u001b[0mprint\u001b[0m\u001b[0;34m(\u001b[0m\u001b[0midx\u001b[0m\u001b[0;34m)\u001b[0m\u001b[0;34m\u001b[0m\u001b[0m\n\u001b[1;32m     12\u001b[0m     \u001b[0msrc_coords\u001b[0m \u001b[0;34m=\u001b[0m \u001b[0msource_coordinates\u001b[0m\u001b[0;34m[\u001b[0m\u001b[0mdim\u001b[0m\u001b[0;34m]\u001b[0m\u001b[0;34m\u001b[0m\u001b[0m\n\u001b[0;32m---> 13\u001b[0;31m     \u001b[0mdst_coords\u001b[0m \u001b[0;34m=\u001b[0m \u001b[0mrequested_coordinates\u001b[0m\u001b[0;34m[\u001b[0m\u001b[0mdim\u001b[0m\u001b[0;34m]\u001b[0m\u001b[0;34m\u001b[0m\u001b[0m\n\u001b[0m\u001b[1;32m     14\u001b[0m \u001b[0;34m\u001b[0m\u001b[0m\n\u001b[1;32m     15\u001b[0m     \u001b[0;32mif\u001b[0m \u001b[0misinstance\u001b[0m\u001b[0;34m(\u001b[0m\u001b[0mdst_coords\u001b[0m\u001b[0;34m,\u001b[0m \u001b[0mUniformCoordinates1d\u001b[0m\u001b[0;34m)\u001b[0m\u001b[0;34m:\u001b[0m\u001b[0;34m\u001b[0m\u001b[0m\n",
      "\u001b[0;32m~/computing/repositories/geospatial/podpac/podpac/core/coordinates/coordinates.py\u001b[0m in \u001b[0;36m__getitem__\u001b[0;34m(self, dim)\u001b[0m\n\u001b[1;32m    239\u001b[0m                 \u001b[0;32mreturn\u001b[0m \u001b[0mc\u001b[0m\u001b[0;34m[\u001b[0m\u001b[0mdim\u001b[0m\u001b[0;34m]\u001b[0m\u001b[0;34m\u001b[0m\u001b[0m\n\u001b[1;32m    240\u001b[0m \u001b[0;34m\u001b[0m\u001b[0m\n\u001b[0;32m--> 241\u001b[0;31m         \u001b[0;32mraise\u001b[0m \u001b[0mKeyError\u001b[0m\u001b[0;34m(\u001b[0m\u001b[0;34m\"dimension '%s' not found in Coordinates %s\"\u001b[0m \u001b[0;34m%\u001b[0m \u001b[0;34m(\u001b[0m\u001b[0mdim\u001b[0m\u001b[0;34m,\u001b[0m \u001b[0mself\u001b[0m\u001b[0;34m.\u001b[0m\u001b[0mdims\u001b[0m\u001b[0;34m)\u001b[0m\u001b[0;34m)\u001b[0m\u001b[0;34m\u001b[0m\u001b[0m\n\u001b[0m\u001b[1;32m    242\u001b[0m \u001b[0;34m\u001b[0m\u001b[0m\n\u001b[1;32m    243\u001b[0m     \u001b[0;32mdef\u001b[0m \u001b[0m__setitem__\u001b[0m\u001b[0;34m(\u001b[0m\u001b[0mself\u001b[0m\u001b[0;34m,\u001b[0m \u001b[0mdim\u001b[0m\u001b[0;34m,\u001b[0m \u001b[0mc\u001b[0m\u001b[0;34m)\u001b[0m\u001b[0;34m:\u001b[0m\u001b[0;34m\u001b[0m\u001b[0m\n",
      "\u001b[0;31mKeyError\u001b[0m: \"dimension 'lat_lon' not found in Coordinates ('lat', 'lon')\""
     ]
    }
   ],
   "source": [
    "# source_coordinates = Coordinates([clinspace(-25, 25, 51), clinspace(-25, 25, 51)], dims=['lat', 'lon'])\n",
    "source_coordinates = Coordinates([(np.linspace(-25, 25, 51), np.linspace(-25, 25, 51))], dims=['lat_lon'])\n",
    "requested_coordinates = Coordinates([clinspace(-15, 15, 51), clinspace(-15, 15, 51)], dims=['lat', 'lon'])\n",
    "\n",
    "source_coordinates, source_coordinates_index = source_coordinates.intersect(requested_coordinates, outer=True, return_indices=True)\n",
    "\n",
    "new_coords =[]\n",
    "new_coords_idx = []\n",
    "for dim, idx in zip(source_coordinates, source_coordinates_index):\n",
    "    if isinstance(source_coordinates[dim], StackedCoordinates):\n",
    "        \n",
    "    \n",
    "    src_coords = source_coordinates[dim]\n",
    "    dst_coords = requested_coordinates[dim]\n",
    "\n",
    "    if isinstance(dst_coords, UniformCoordinates1d):\n",
    "        dst_start = dst_coords.start\n",
    "        dst_stop = dst_coords.stop\n",
    "        dst_delta = dst_coords.step\n",
    "    else:\n",
    "        dst_start = dst_coords.coordinates[0]\n",
    "        dst_stop = dst_coords.coordinates[-1]\n",
    "        dst_delta = (dst_stop-dst_start) / (dst_coords.size - 1)\n",
    "\n",
    "    if isinstance(src_coords, UniformCoordinates1d):\n",
    "        src_start = src_coords.start\n",
    "        src_stop = src_coords.stop\n",
    "        src_delta = src_coords.step\n",
    "    else:\n",
    "        src_start = src_coords.coordinates[0]\n",
    "        src_stop = src_coords.coordinates[-1]\n",
    "        src_delta = (src_stop-src_start) / (src_coords.size - 1)\n",
    "\n",
    "    ndelta = max(1, np.round(dst_delta / src_delta))\n",
    "\n",
    "    c = UniformCoordinates1d(src_start, src_stop, ndelta*src_delta, **src_coords.properties)\n",
    "\n",
    "    if isinstance(idx, slice):\n",
    "        idx = slice(idx.start, idx.stop, int(ndelta))\n",
    "    else:\n",
    "        idx = slice(idx[0], idx[-1], int(ndelta))\n",
    "\n",
    "    new_coords.append(c)\n",
    "    new_coords_idx.append(idx)"
   ]
  },
  {
   "cell_type": "code",
   "execution_count": 6,
   "metadata": {},
   "outputs": [
    {
     "data": {
      "text/plain": [
       "[slice(9, 42, None)]"
      ]
     },
     "execution_count": 6,
     "metadata": {},
     "output_type": "execute_result"
    }
   ],
   "source": [
    "source_coordinates_index"
   ]
  },
  {
   "cell_type": "code",
   "execution_count": 11,
   "metadata": {},
   "outputs": [
    {
     "data": {
      "text/plain": [
       "True"
      ]
     },
     "execution_count": 11,
     "metadata": {},
     "output_type": "execute_result"
    }
   ],
   "source": [
    "isinstance(source_coordinates['lat_lon'], StackedCoordinates)"
   ]
  },
  {
   "cell_type": "code",
   "execution_count": 14,
   "metadata": {},
   "outputs": [
    {
     "data": {
      "text/plain": [
       "['1']"
      ]
     },
     "execution_count": 14,
     "metadata": {},
     "output_type": "execute_result"
    }
   ],
   "source": [
    "a = []\n",
    "a.append('1')\n",
    "a"
   ]
  },
  {
   "cell_type": "code",
   "execution_count": 13,
   "metadata": {},
   "outputs": [
    {
     "data": {
      "text/plain": [
       "('lat', 'lon')"
      ]
     },
     "execution_count": 13,
     "metadata": {},
     "output_type": "execute_result"
    }
   ],
   "source": [
    "source_coordinates['lat_lon'].dims"
   ]
  },
  {
   "cell_type": "code",
   "execution_count": 12,
   "metadata": {},
   "outputs": [
    {
     "name": "stdout",
     "output_type": "stream",
     "text": [
      "slice(9, 42, None)\n",
      "[-16. -15. -14. -13. -12. -11. -10.  -9.  -8.  -7.  -6.  -5.  -4.  -3.\n",
      "  -2.  -1.   0.   1.   2.   3.   4.   5.   6.   7.   8.   9.  10.  11.\n",
      "  12.  13.  14.  15.  16.]\n",
      "ArrayCoordinates1d(lat): Bounds[-16.0, 16.0], N[33], ctype['midpoint']\n",
      "slice(9, 42, None)\n",
      "[-16. -15. -14. -13. -12. -11. -10.  -9.  -8.  -7.  -6.  -5.  -4.  -3.\n",
      "  -2.  -1.   0.   1.   2.   3.   4.   5.   6.   7.   8.   9.  10.  11.\n",
      "  12.  13.  14.  15.  16.]\n",
      "ArrayCoordinates1d(lon): Bounds[-16.0, 16.0], N[33], ctype['midpoint']\n"
     ]
    },
    {
     "data": {
      "text/plain": [
       "[slice(9, 42, None), slice(9, 42, None)]"
      ]
     },
     "execution_count": 12,
     "metadata": {},
     "output_type": "execute_result"
    }
   ],
   "source": [
    "[c.intersect(requested_coordinates, outer=True, return_indices=True)[1] for c in stacked._coords]"
   ]
  },
  {
   "cell_type": "code",
   "execution_count": 28,
   "metadata": {},
   "outputs": [
    {
     "data": {
      "text/plain": [
       "[False, nan, 0, 1.2]"
      ]
     },
     "execution_count": 28,
     "metadata": {},
     "output_type": "execute_result"
    }
   ],
   "source": [
    "list(map(lambda i: i if isinstance(i, (int, float)) else np.nan, [False, None, 0, 1.2]))"
   ]
  },
  {
   "cell_type": "code",
   "execution_count": 30,
   "metadata": {},
   "outputs": [
    {
     "data": {
      "text/plain": [
       "True"
      ]
     },
     "execution_count": 30,
     "metadata": {},
     "output_type": "execute_result"
    }
   ],
   "source": [
    "isinstance(False, bool)"
   ]
  },
  {
   "cell_type": "code",
   "execution_count": 6,
   "metadata": {},
   "outputs": [],
   "source": [
    "interp = Interpolation({('lat',): 'nearest', 'lon': 'bilinear'}, COORDINATES)"
   ]
  },
  {
   "cell_type": "code",
   "execution_count": 31,
   "metadata": {},
   "outputs": [
    {
     "data": {
      "text/plain": [
       "0"
      ]
     },
     "execution_count": 31,
     "metadata": {},
     "output_type": "execute_result"
    }
   ],
   "source": [
    "np.nanmin([1,1,0,0])"
   ]
  },
  {
   "cell_type": "code",
   "execution_count": 9,
   "metadata": {},
   "outputs": [],
   "source": [
    "if (): print('t')"
   ]
  },
  {
   "cell_type": "code",
   "execution_count": null,
   "metadata": {},
   "outputs": [],
   "source": []
  }
 ],
 "metadata": {
  "kernelspec": {
   "display_name": "Python 3",
   "language": "python",
   "name": "python3"
  },
  "language_info": {
   "codemirror_mode": {
    "name": "ipython",
    "version": 3
   },
   "file_extension": ".py",
   "mimetype": "text/x-python",
   "name": "python",
   "nbconvert_exporter": "python",
   "pygments_lexer": "ipython3",
   "version": "3.6.5"
  }
 },
 "nbformat": 4,
 "nbformat_minor": 2
}
