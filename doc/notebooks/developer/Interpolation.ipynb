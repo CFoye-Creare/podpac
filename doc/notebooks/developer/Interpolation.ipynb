{
 "cells": [
  {
   "cell_type": "markdown",
   "metadata": {},
   "source": [
    "# Interpolation"
   ]
  },
  {
   "cell_type": "markdown",
   "metadata": {},
   "source": [
    "PODPAC supports the following interpolation methods with the associated Interpolator classes:\n",
    "    \n",
    "```python\n",
    "INTERPOLATION_METHODS = {\n",
    "    'nearest': [NearestNeighbor],\n",
    "    'nearest_preview': [NearestPreview],\n",
    "    'bilinear':[Rasterio, Scipy],\n",
    "    'cubic':[Rasterio, Scipy],\n",
    "    'cubic_spline':[Rasterio, Scipy],\n",
    "    'lanczos':[Rasterio, Scipy],\n",
    "    'average':[Rasterio, Scipy],\n",
    "    'mode':[Rasterio, Scipy],\n",
    "    'gauss':[Rasterio, Scipy],\n",
    "    'max':[Rasterio, Scipy],\n",
    "    'min':[Rasterio, Scipy],\n",
    "    'med':[Rasterio, Scipy],\n",
    "    'q1':[Rasterio, Scipy],\n",
    "    'q3': [Rasterio, Scipy]\n",
    "}\n",
    "```"
   ]
  },
  {
   "cell_type": "code",
   "execution_count": 18,
   "metadata": {},
   "outputs": [],
   "source": [
    "# notebook imports\n",
    "from IPython.display import display\n",
    "import numpy as np\n",
    "from podpac.core.coordinates import Coordinates, clinspace\n",
    "from podpac.core.data.types import Array"
   ]
  },
  {
   "cell_type": "markdown",
   "metadata": {},
   "source": [
    "## Demo Setup\n",
    "\n",
    "Create a simple Array data source node and alternate coordinates to evaluate"
   ]
  },
  {
   "cell_type": "code",
   "execution_count": 19,
   "metadata": {},
   "outputs": [
    {
     "data": {
      "text/plain": [
       "array([[0.89863362, 0.9154702 , 0.72588443],\n",
       "       [0.53842186, 0.22045984, 0.64350443],\n",
       "       [0.99793058, 0.5996738 , 0.99236829]])"
      ]
     },
     "execution_count": 19,
     "metadata": {},
     "output_type": "execute_result"
    }
   ],
   "source": [
    "# data source \n",
    "source = np.random.rand(3, 3)\n",
    "native_coords = Coordinates([[0, 5, 10], clinspace('2018-01-01', '2018-01-18', 3)], \n",
    "                             dims=['lat', 'time'])\n",
    "node = Array(source=source, native_coordinates=native_coords)\n",
    "\n",
    "node.source"
   ]
  },
  {
   "cell_type": "code",
   "execution_count": 20,
   "metadata": {},
   "outputs": [],
   "source": [
    "# coordinates to evaluate node\n",
    "eval_coords = Coordinates([[.7, 1.2, 9], clinspace('2018-01-01', '2018-01-09', 3)], \n",
    "                          dims=['lat', 'time'])"
   ]
  },
  {
   "cell_type": "markdown",
   "metadata": {},
   "source": [
    "## Nearest Neighbor"
   ]
  },
  {
   "cell_type": "code",
   "execution_count": 21,
   "metadata": {},
   "outputs": [],
   "source": [
    "# simple interpolation definition\n",
    "node.interpolation = 'nearest'"
   ]
  },
  {
   "cell_type": "code",
   "execution_count": 22,
   "metadata": {},
   "outputs": [
    {
     "data": {
      "text/plain": [
       "array([[0.89863362, 0.9154702 , 0.9154702 ],\n",
       "       [0.89863362, 0.9154702 , 0.9154702 ],\n",
       "       [0.99793058, 0.5996738 , 0.5996738 ]])"
      ]
     },
     "execution_count": 22,
     "metadata": {},
     "output_type": "execute_result"
    }
   ],
   "source": [
    "# evaluate at coords with nearest neighbor interpolation\n",
    "output = node.eval(eval_coords)\n",
    "\n",
    "# elements are chosen based on their nearest neighbor\n",
    "output.data"
   ]
  },
  {
   "cell_type": "markdown",
   "metadata": {},
   "source": [
    "#### Spatial Tolerance"
   ]
  },
  {
   "cell_type": "code",
   "execution_count": 14,
   "metadata": {},
   "outputs": [
    {
     "data": {
      "text/plain": [
       "array([[0.8151018 , 0.84889048, 0.84889048],\n",
       "       [       nan,        nan,        nan],\n",
       "       [0.26857165, 0.18086109, 0.18086109]])"
      ]
     },
     "execution_count": 14,
     "metadata": {},
     "output_type": "execute_result"
    }
   ],
   "source": [
    "# set a space tolerance on interpolation\n",
    "node.interpolation = {\n",
    "    'method': 'nearest',\n",
    "    'params': {\n",
    "        'spatial_tolerance': 1.1\n",
    "    }\n",
    "}\n",
    "\n",
    "output = node.eval(eval_coords)\n",
    "\n",
    "# the 1st element is outside of the space tolerance\n",
    "output.data"
   ]
  },
  {
   "cell_type": "markdown",
   "metadata": {},
   "source": [
    "#### Time Tolerance"
   ]
  },
  {
   "cell_type": "code",
   "execution_count": 19,
   "metadata": {},
   "outputs": [
    {
     "data": {
      "text/plain": [
       "array([[0.8151018 ,        nan, 0.84889048],\n",
       "       [       nan,        nan,        nan],\n",
       "       [0.26857165,        nan, 0.18086109]])"
      ]
     },
     "execution_count": 19,
     "metadata": {},
     "output_type": "execute_result"
    }
   ],
   "source": [
    "# set a time tolerance on interpolation\n",
    "node.interpolation = {\n",
    "        'method': 'nearest',\n",
    "        'params': {\n",
    "            'spatial_tolerance': 1.1,\n",
    "            'time_tolerance': np.timedelta64(1, 'D')\n",
    "        }\n",
    "}\n",
    "\n",
    "output = node.eval(eval_coords)\n",
    "output.data"
   ]
  },
  {
   "cell_type": "markdown",
   "metadata": {},
   "source": [
    "## Rasterio Interpolation\n",
    "\n",
    "Rasterio provides support for the following interpolation methods:\n",
    "\n",
    "\n",
    "```python\n",
    "['nearest', \n",
    " 'bilinear', \n",
    " 'cubic', \n",
    " 'cubic_spline', \n",
    " 'lanczos', \n",
    " 'average', \n",
    " 'mode', \n",
    " 'gauss', \n",
    " 'max', \n",
    " 'min', \n",
    " 'med', \n",
    " 'q1', \n",
    " 'q3']\n",
    "```"
   ]
  },
  {
   "cell_type": "code",
   "execution_count": 23,
   "metadata": {},
   "outputs": [
    {
     "data": {
      "text/plain": [
       "array([[0.60156958, 0.54198521, 0.90493734, 0.68843579, 0.8564641 ],\n",
       "       [0.49695162, 0.27169023, 0.27647436, 0.94737437, 0.0887236 ],\n",
       "       [0.54245185, 0.22610308, 0.48760185, 0.53948611, 0.27071314],\n",
       "       [0.40008639, 0.06394548, 0.51670318, 0.72545895, 0.1061752 ],\n",
       "       [0.65065352, 0.64087531, 0.81125917, 0.65095995, 0.00435908]])"
      ]
     },
     "execution_count": 23,
     "metadata": {},
     "output_type": "execute_result"
    }
   ],
   "source": [
    "# data source \n",
    "source = np.random.rand(5, 5)\n",
    "native_coords = Coordinates([np.linspace(0, 10, 5), np.linspace(0, 10, 5)], \n",
    "                             dims=['lat', 'lon'])\n",
    "node = Array(source=source, native_coordinates=native_coords)\n",
    "\n",
    "node.source"
   ]
  },
  {
   "cell_type": "code",
   "execution_count": 24,
   "metadata": {},
   "outputs": [],
   "source": [
    "# coordinates to evaluate node\n",
    "eval_coords = Coordinates([[.7, 1.2, 5, 9, 10], [.7, 1.2, 5, 9, 10]], \n",
    "                          dims=['lat', 'lon'])"
   ]
  },
  {
   "cell_type": "code",
   "execution_count": 26,
   "metadata": {},
   "outputs": [
    {
     "data": {
      "text/plain": [
       "array([[nan, nan, nan, nan, nan],\n",
       "       [nan, nan, nan, nan, nan],\n",
       "       [nan, nan, nan, nan, nan],\n",
       "       [nan, nan, nan, nan, nan],\n",
       "       [nan, nan, nan, nan, nan]])"
      ]
     },
     "execution_count": 26,
     "metadata": {},
     "output_type": "execute_result"
    }
   ],
   "source": [
    "# use an interpolation method from rasterio\n",
    "node.interpolation = 'max'\n",
    "output = node.eval(eval_coords)\n",
    "\n",
    "# elements are chosen based on their nearest neighbor\n",
    "output.data"
   ]
  }
 ],
 "metadata": {
  "kernelspec": {
   "display_name": "Python 3",
   "language": "python",
   "name": "python3"
  },
  "language_info": {
   "codemirror_mode": {
    "name": "ipython",
    "version": 3
   },
   "file_extension": ".py",
   "mimetype": "text/x-python",
   "name": "python",
   "nbconvert_exporter": "python",
   "pygments_lexer": "ipython3",
   "version": "3.6.5"
  }
 },
 "nbformat": 4,
 "nbformat_minor": 2
}
