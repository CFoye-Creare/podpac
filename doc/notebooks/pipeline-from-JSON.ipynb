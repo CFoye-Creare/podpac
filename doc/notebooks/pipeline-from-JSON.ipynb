{
 "cells": [
  {
   "cell_type": "code",
   "execution_count": 1,
   "metadata": {
    "collapsed": true
   },
   "outputs": [
    {
     "name": "stdout",
     "output_type": "stream",
     "text": [
      "Populating the interactive namespace from numpy and matplotlib\n"
     ]
    }
   ],
   "source": [
    "# Set up interactive plotting using matplotlib, and load numpy\n",
    "# %pylab ipympl\n",
    "%pylab inline\n",
    "import warnings\n",
    "warnings.filterwarnings('ignore')"
   ]
  },
  {
   "cell_type": "markdown",
   "metadata": {},
   "source": [
    "# 0: Setup\n",
    "## 0.0: Import PODPAC dependencies"
   ]
  },
  {
   "cell_type": "code",
   "execution_count": 2,
   "metadata": {
    "collapsed": true
   },
   "outputs": [],
   "source": [
    "import ipywidgets as widgets\n",
    "import podpac\n",
    "from podpac.datalib import smap"
   ]
  },
  {
   "cell_type": "markdown",
   "metadata": {},
   "source": [
    "## 0.1: Provide Earth Data Login Credentials\n",
    "If you do not have an earth data login, follow the [instructions here](https://creare-com.github.io/podpac-docs/user/earthdata.html)"
   ]
  },
  {
   "cell_type": "code",
   "execution_count": 3,
   "metadata": {
    "collapsed": false
   },
   "outputs": [],
   "source": [
    "import getpass\n",
    "username = input(\"Username:\");   password = getpass.getpass('Password:')"
   ]
  },
  {
   "cell_type": "markdown",
   "metadata": {},
   "source": [
    "# 1: Set up and execute pipeline\n",
    "## 1.0: Define the pipeline json"
   ]
  },
  {
   "cell_type": "code",
   "execution_count": 4,
   "metadata": {},
   "outputs": [
    {
     "data": {
      "application/vnd.jupyter.widget-view+json": {
       "model_id": "17f24a73f9f3402aba5ecfdc2b41c085",
       "version_major": 2,
       "version_minor": 0
      },
      "text/plain": [
       "Textarea(value='\\n{\\n    \"nodes\": {\\n        \"SMAP_SPL4SMAU.003\": {\\n            \"node\": \"datalib.smap.SMAP\",\\…"
      ]
     },
     "metadata": {},
     "output_type": "display_data"
    }
   ],
   "source": [
    "value='''\n",
    "{\n",
    "    \"nodes\": {\n",
    "        \"SMAP_SPL4SMAU.003\": {\n",
    "            \"node\": \"datalib.smap.SMAP\",\n",
    "            \"params\": {\n",
    "                \"interpolation\": \"nearest\",\n",
    "                \"n_threads\": 10,\n",
    "                \"threaded\": false\n",
    "            },\n",
    "            \"attrs\": {\n",
    "                \"product\": \"SPL4SMAU.003\",\n",
    "                \"interpolation\": \"nearest\"\n",
    "            }\n",
    "        }\n",
    "    },\n",
    "    \"output\": {\n",
    "        \"mode\": \"image\",\n",
    "        \"format\": \"png\",\n",
    "        \"vmin\": -1.2,\n",
    "        \"vmax\": 1.2,\n",
    "        \"node\": \"SMAP_SPL4SMAU.003\"\n"
    "    }\n",
    "}                                 \n",
    "'''\n",
    "pipeline_json = widgets.Textarea(description='Pipeline Definition', \n",
    "                                 disabled=False, \n",
    "                                 layout=widgets.Layout(width='50%', height='400px'),\n",
    "                                 placeholder='{}',\n",
    "                                 value=value\n",
    "                                )\n",
    "pipeline_json"
   ]
  },
  {
   "cell_type": "markdown",
   "metadata": {},
   "source": [
    "## 1.1: Create the pipeline"
   ]
  },
  {
   "cell_type": "code",
   "execution_count": 5,
   "metadata": {},
   "outputs": [],
   "source": [
    "sm = podpac.Pipeline(json=pipeline_json)"
   ]
  },
  {
   "cell_type": "markdown",
   "metadata": {},
   "source": [
    "## 1.2: Set username and password for example node"
   ]
  },
  {
   "cell_type": "code",
   "execution_count": 6,
   "metadata": {},
   "outputs": [],
   "source": [
    "sm.nodes['SMAP_SPL4SMAU.003'].username = username\n",
    "sm.nodes['SMAP_SPL4SMAU.003'].password = password"
   ]
  },
  {
   "cell_type": "markdown",
   "metadata": {},
   "source": [
    "## 1.3: Execute and plot the node for the world"
   ]
  },
  {
   "cell_type": "code",
   "execution_count": 7,
   "metadata": {},
   "outputs": [
    {
     "name": "stdout",
     "output_type": "stream",
     "text": [
      "executing node SMAP_SPL4SMAU.003\n"
     ]
    },
    {
     "data": {
      "text/plain": [
       "(-181.0, 181.0, -91.0, 91.0)"
      ]
     },
     "execution_count": 7,
     "metadata": {},
     "output_type": "execute_result"
    },
    {
     "data": {
      "image/png": "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\n",
      "text/plain": [
       "<Figure size 432x288 with 2 Axes>"
      ]
     },
     "metadata": {},
     "output_type": "display_data"
    }
   ],
   "source": [
    "# dim = (start, stop, step)\n",
    "lat =   (   90,  -90,-2.0)\n",
    "lon =   ( -180,  180, 2.0)\n",
    "# dim = value\n",
    "time = '2018-05-19T12:00:00'\n",
    "\n",
    "c_world = podpac.Coordinate(lat=lat, lon=lon, time=time)\n",
    "o = sm.execute(c_world)\n",
    "figure()\n",
    "o.plot(cmap='gist_earth_r')\n",
    "axis('scaled')"
   ]
  }
 ],
 "metadata": {
  "kernelspec": {
   "display_name": "podpac",
   "language": "python",
   "name": "podpac"
  },
  "language_info": {
   "codemirror_mode": {
    "name": "ipython",
    "version": 3
   },
   "file_extension": ".py",
   "mimetype": "text/x-python",
   "name": "python",
   "nbconvert_exporter": "python",
   "pygments_lexer": "ipython3",
   "version": "3.6.6"
  }
 },
 "nbformat": 4,
 "nbformat_minor": 2
}
