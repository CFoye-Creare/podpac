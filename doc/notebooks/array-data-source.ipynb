{
 "cells": [
  {
   "cell_type": "markdown",
   "metadata": {},
   "source": [
    "# Array Data Source\n",
    "\n",
    "\n",
    "n-d array data source at arbitrary coordinates."
   ]
  },
  {
   "cell_type": "code",
   "execution_count": 1,
   "metadata": {},
   "outputs": [],
   "source": [
    "import json\n",
    "import datetime\n",
    "import numpy as np\n",
    "\n",
    "import podpac\n",
    "from podpac.core.data.type import NumpyArray"
   ]
  },
  {
   "cell_type": "markdown",
   "metadata": {},
   "source": [
    "#### Point Data - Stacked Coordinates\n",
    "\n",
    "This is relevant to data when data is associated with multiple dimensions defined as a function seperate dimension.\n",
    "For example, if you have data with associated (`lat`,`lon`) dimensions at various time points.\n",
    "\n",
    "This is often the case for geospatial sensor or mobile phone time series data."
   ]
  },
  {
   "cell_type": "code",
   "execution_count": 2,
   "metadata": {},
   "outputs": [
    {
     "data": {
      "text/plain": [
       "Coordinate\n",
       "\tlat_lon[lat]: Coord: Bounds[42.00051334619553, 44.99764693556064], N[1000], ctype[\"point\"]\n",
       "\tlat_lon[lon]: Coord: Bounds[-70.99967343798743, -68.00181022140539], N[1000], ctype[\"point\"]\n",
       "\ttime: Coord: Bounds[2018-04-30, 2018-05-01], N[100], ctype[\"point\"]"
      ]
     },
     "execution_count": 2,
     "metadata": {},
     "output_type": "execute_result"
    }
   ],
   "source": [
    "# example sensor data recorded at points (lat, lon) at time \n",
    "# This could be 1000 pressure readings at certain locations for the last 100 minutes.\n",
    "data = 1000 + 100*np.random.rand(1000)\n",
    "lat = 42 + 3*np.random.rand(1000)\n",
    "lon = -71 + 3*np.random.rand(1000)\n",
    "time = np.array([datetime.datetime(2018, 5, 1) - datetime.timedelta(minutes=t) for t in range(0,100)])\n",
    "\n",
    "# create podpac coordinates for data\n",
    "stacked = podpac.Coordinate(lat_lon=(lat, lon), time=time, ctype='point')\n",
    "\n",
    "# create node for data source\n",
    "PointData = NumpyArray(source=data, native_coordinates=stacked)\n",
    "PointData.native_coordinates"
   ]
  },
  {
   "cell_type": "markdown",
   "metadata": {},
   "source": [
    "#### Grid Data - Unstacked Coordinates\n",
    "\n",
    "This is relevant when data is defined as a function of each of dimension.\n",
    "\n",
    "This is often the case for raster data sources.  TODO: specify better example"
   ]
  },
  {
   "cell_type": "code",
   "execution_count": 3,
   "metadata": {},
   "outputs": [
    {
     "data": {
      "text/plain": [
       "Coordinate\n",
       "\tlat: MonotonicCoord: Bounds[42.0, 45.0], N[20], ctype[\"segment\"]\n",
       "\tlon: MonotonicCoord: Bounds[-71.0, -69.0], N[30], ctype[\"segment\"]"
      ]
     },
     "execution_count": 3,
     "metadata": {},
     "output_type": "execute_result"
    }
   ],
   "source": [
    "# grid of data\n",
    "# this could be the pressure interpreted from a satellite image for a 20 x 30 grid of points for the last 100 minutes\n",
    "data = 1000 + 100*np.random.rand(20, 30)\n",
    "\n",
    "# set up grid of native coordinates\n",
    "lat = np.linspace(42, 45, num=data.shape[0])\n",
    "lon = np.linspace(-71, -69, num=data.shape[1])\n",
    "\n",
    "# create podpac coordinate for data\n",
    "unstacked = podpac.Coordinate(lat=lat, lon=lon)\n",
    "\n",
    "# create node for data source\n",
    "GridData = NumpyArray(source=data, native_coordinates=unstacked)\n",
    "GridData.native_coordinates"
   ]
  }
 ],
 "metadata": {
  "kernelspec": {
   "display_name": "podpac",
   "language": "python",
   "name": "podpac"
  },
  "language_info": {
   "codemirror_mode": {
    "name": "ipython",
    "version": 3
   },
   "file_extension": ".py",
   "mimetype": "text/x-python",
   "name": "python",
   "nbconvert_exporter": "python",
   "pygments_lexer": "ipython3",
   "version": "3.6.6"
  }
 },
 "nbformat": 4,
 "nbformat_minor": 2
}
