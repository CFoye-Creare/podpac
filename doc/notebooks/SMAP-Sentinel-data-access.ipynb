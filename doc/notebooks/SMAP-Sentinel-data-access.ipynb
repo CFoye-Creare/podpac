{
 "cells": [
  {
   "cell_type": "code",
   "execution_count": 1,
   "metadata": {
    "collapsed": true
   },
   "outputs": [
    {
     "name": "stdout",
     "output_type": "stream",
     "text": [
      "Populating the interactive namespace from numpy and matplotlib\n"
     ]
    }
   ],
   "source": [
    "# Set up interactive plotting using matplotlib, and load numpy\n",
    "# %pylab ipympl\n",
    "%pylab inline\n",
    "import warnings\n",
    "warnings.filterwarnings('ignore')"
   ]
  },
  {
   "cell_type": "markdown",
   "metadata": {},
   "source": [
    "# Import PODPAC dependencies"
   ]
  },
  {
   "cell_type": "code",
   "execution_count": 2,
   "metadata": {
    "collapsed": true
   },
   "outputs": [],
   "source": [
    "from collections import OrderedDict\n",
    "import podpac\n",
    "from podpac.datalib import smap"
   ]
  },
  {
   "cell_type": "markdown",
   "metadata": {},
   "source": [
    "# Provide Earth Data Login Credentials\n",
    "If you do not have an earth data login, follow the [instructions here](https://creare-com.github.io/podpac-docs/user/earthdata.html)"
   ]
  },
  {
   "cell_type": "code",
   "execution_count": 3,
   "metadata": {
    "collapsed": false
   },
   "outputs": [],
   "source": [
    "import getpass\n",
    "username = password = None\n",
    "# username = input(\"Username:\");   password = getpass.getpass('Password:')"
   ]
  },
  {
   "cell_type": "markdown",
   "metadata": {},
   "source": [
    "# Create the PODPAC SMAP Node, selecting the Sentinel product"
   ]
  },
  {
   "cell_type": "code",
   "execution_count": 4,
   "metadata": {
    "collapsed": false
   },
   "outputs": [],
   "source": [
    "# Create the SMAP node\n",
    "product = 'SPL2SMAP_S'   # Level 2 SMAP-Sentinel Data\n",
    "sm = smap.SMAP(product=product, interpolation='nearest', username=username, password=password)"
   ]
  },
  {
   "cell_type": "markdown",
   "metadata": {},
   "source": [
    "# Retrieve and plot SMAP data for:\n",
    "## * A particular date\n",
    "## * Over lat-lon range with user-specified grid"
   ]
  },
  {
   "cell_type": "code",
   "execution_count": null,
   "metadata": {},
   "outputs": [],
   "source": [
    "# !!! This takes quite a while since it retrieves data from a lot of tiles (100's)\n",
    "# dim = (start, stop, step)\n",
    "lat =   (   90,  -90,-0.5)\n",
    "lon =   ( -180,  180, 0.5)\n",
    "# dim = [value, value, value, ...]\n",
    "time = ['2018-05-05T12:00:00', '2018-05-06T12:00:00']\n",
    "\n",
    "c_world = podpac.Coordinates.grid(lat=lat, lon=lon, time=time, order=['lat', 'lon', 'time'])\n",
    "sm.interpolation = 'nearest_preview'\n",
    "o = sm.execute(c_world)\n"
   ]
  },
  {
   "cell_type": "code",
   "execution_count": null,
   "metadata": {},
   "outputs": [],
   "source": [
    "close('all')\n",
    "figure(figsize=(12, 4))\n",
    "subplot(121);o[..., 0].plot(cmap='gist_earth_r'); axis('scaled')\n",
    "subplot(122);o[..., 1].plot(cmap='gist_earth_r'); axis('scaled')"
   ]
  },
  {
   "cell_type": "markdown",
   "metadata": {},
   "source": [
    "# Figure out how often a tile is available for each 1°x1° square of the earth\n",
    "# While doing that, also find pairs of tiles that overlap for the same date/time/area"
   ]
  },
  {
   "cell_type": "code",
   "execution_count": null,
   "metadata": {},
   "outputs": [],
   "source": [
    "# !!!!! This next line will take a very long while first time it is run\n",
    "pnc3, srcs3 = sm.get_partial_native_coordinates_sources()\n",
    "pnc3"
   ]
  },
  {
   "cell_type": "code",
   "execution_count": null,
   "metadata": {},
   "outputs": [],
   "source": [
    "world_hist = np.zeros((180, 360))\n",
    "time_pair = -np.ones((180, 360), int)\n",
    "time_pair_delta = np.zeros((180, 360), 'datetime64[h]')\n",
    "time_pair_inds = OrderedDict()\n",
    "time_pair_srcs = OrderedDict()"
   ]
  },
  {
   "cell_type": "code",
   "execution_count": null,
   "metadata": {},
   "outputs": [],
   "source": [
    "time_pair_delta[:] = pnc3['time'].coords[0]\n",
    "# Loop through every coordinate (that describes a single data tile)\n",
    "for k in range(pnc3.shape[0]):\n",
    "    # Extract the indexes based on the lat-lon coordinates\n",
    "    lat = int((90 - (pnc3['lat'].coords[k])))\n",
    "    lon = int((180 + (pnc3['lon'].coords[k])))\n",
    "    # Count this tile\n",
    "    world_hist[lat, lon] += 1\n",
    "\n",
    "    # Record the time for the tile\n",
    "    time = (pnc3['time'].coords[k])\n",
    "    # Check if another tile has visited this region\n",
    "    if time_pair[lat, lon] != -1: \n",
    "        # Another tile has visited this region. Was it recent enough to constitute an overlap? \n",
    "        if time - time_pair_delta[lat, lon] < np.timedelta64(1, 'D'):\n",
    "            # Yes, recent enough to constitute and overlap, record this pair\n",
    "            time_pair_inds[time] = (time_pair[lat, lon], k)\n",
    "            time_pair_srcs[time] = (srcs3[time_pair[lat, lon]], srcs3[k])\n",
    "    # record this tile and its visit time\n",
    "    time_pair[lat, lon] = k\n",
    "    time_pair_delta[lat, lon] = time\n",
    "\n",
    "# Set regions with no visits to nan\n",
    "world_hist[world_hist == 0] = np.nan"
   ]
  },
  {
   "cell_type": "code",
   "execution_count": null,
   "metadata": {},
   "outputs": [],
   "source": [
    "matshow(world_hist, cmap='jet'); colorbar(); axis('scaled')"
   ]
  },
  {
   "cell_type": "code",
   "execution_count": null,
   "metadata": {},
   "outputs": [],
   "source": [
    "# Get the last pair of overlapping tiles found and plot the results\n",
    "srcs = time_pair_srcs[next(reversed(time_pair_srcs))]\n",
    "srcs"
   ]
  },
  {
   "cell_type": "code",
   "execution_count": null,
   "metadata": {},
   "outputs": [],
   "source": [
    "srcs[0].native_coordinates"
   ]
  },
  {
   "cell_type": "code",
   "execution_count": null,
   "metadata": {},
   "outputs": [],
   "source": [
    "srcs[1].native_coordinates"
   ]
  },
  {
   "cell_type": "code",
   "execution_count": null,
   "metadata": {},
   "outputs": [],
   "source": [
    "o0 = srcs[0].execute(srcs[0].native_coordinates)\n",
    "o1 = srcs[1].execute(srcs[0].native_coordinates)"
   ]
  },
  {
   "cell_type": "code",
   "execution_count": null,
   "metadata": {},
   "outputs": [],
   "source": [
    "figure(figsize=(18, 4))\n",
    "ax = subplot(131);                   o0.plot(cmap='gist_earth_r');  axis('scaled')\n",
    "subplot(132, sharex=ax, sharey=ax);  o1.plot(cmap='gist_earth_r');  axis('scaled')\n",
    "subplot(133, sharex=ax, sharey=ax); (o0-o1).plot(cmap='bwr');       axis('scaled')"
   ]
  },
  {
   "cell_type": "code",
   "execution_count": null,
   "metadata": {},
   "outputs": [],
   "source": []
  }
 ],
 "metadata": {
  "kernelspec": {
   "display_name": "Python 3",
   "language": "python",
   "name": "python3"
  },
  "language_info": {
   "codemirror_mode": {
    "name": "ipython",
    "version": 3
   },
   "file_extension": ".py",
   "mimetype": "text/x-python",
   "name": "python",
   "nbconvert_exporter": "python",
   "pygments_lexer": "ipython3",
   "version": "3.6.3"
  }
 },
 "nbformat": 4,
 "nbformat_minor": 2
}
