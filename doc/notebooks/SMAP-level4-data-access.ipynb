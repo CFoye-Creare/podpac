{
 "cells": [
  {
   "cell_type": "code",
   "execution_count": null,
   "metadata": {
    "collapsed": true
   },
   "outputs": [],
   "source": [
    "# Set up interactive plotting using matplotlib, and load numpy\n",
    "# %pylab ipympl\n",
    "%pylab inline\n",
    "import warnings\n",
    "warnings.filterwarnings('ignore')"
   ]
  },
  {
   "cell_type": "markdown",
   "metadata": {},
   "source": [
    "# 0: Introduction\n",
    "In this notebook we will perform 3 common tasks: \n",
    "\n",
    "1. Obtain SMAP soil moisture data for a user-specified grid over a single date\n",
    "2. Obtain SMAP soil moisture data for user-specified points over a range of dates\n",
    "3. Obtain SMAP soil moisture data in its native coordinates\n",
    "4. Export a pipeline for re-use elsewhere"
   ]
  },
  {
   "cell_type": "markdown",
   "metadata": {},
   "source": [
    "# 00: Setup\n",
    "## 00.0: Import PODPAC dependencies"
   ]
  },
  {
   "cell_type": "code",
   "execution_count": null,
   "metadata": {
    "collapsed": true
   },
   "outputs": [],
   "source": [
    "import podpac"
   ]
  },
  {
   "cell_type": "markdown",
   "metadata": {},
   "source": [
    "## 00.1: Provide Earth Data Login Credentials\n",
    "If you do not have an earth data login, follow the [instructions here](https://creare-com.github.io/podpac-docs/user/earthdata.html)"
   ]
  },
  {
   "cell_type": "code",
   "execution_count": null,
   "metadata": {
    "collapsed": false
   },
   "outputs": [],
   "source": [
    "import getpass\n",
    "username = password = None\n",
    "username = input(\"Username:\");   password = getpass.getpass('Password:')"
   ]
  },
  {
   "cell_type": "markdown",
   "metadata": {},
   "source": [
    "## 00.2: Create the PODPAC SMAP Node"
   ]
  },
  {
   "cell_type": "code",
   "execution_count": null,
   "metadata": {
    "collapsed": false
   },
   "outputs": [],
   "source": [
    "# Create the SMAP node\n",
    "product = 'SPL4SMAU'   # Level 4 soil moisture analysis update\n",
    "sm = podpac.datalib.SMAP(product=product, interpolation='nearest', username=username, password=password)"
   ]
  },
  {
   "cell_type": "markdown",
   "metadata": {},
   "source": [
    "# 1: Retrieve and plot SMAP data for:\n",
    "## * A particular date\n",
    "## * Over lat-lon range with user-specified grid\n",
    "# 1.0: Using PODPAC"
   ]
  },
  {
   "cell_type": "code",
   "execution_count": null,
   "metadata": {},
   "outputs": [],
   "source": [
    "# dim = (start, stop, step)\n",
    "lat =   (   90,  -90,-2.0)\n",
    "lon =   ( -180,  180, 2.0)\n",
    "# dim = value\n",
    "time = '2018-05-19T12:00:00'\n",
    "\n",
    "c_world = podpac.Coordinates([podpac.crange(*lat),\n",
    "                              podpac.crange(*lon),\n",
    "                              time], dims=['lat', 'lon', 'time'])\n",
    "o = sm.execute(c_world)\n",
    "figure()\n",
    "o.plot(cmap='gist_earth_r')\n",
    "axis('scaled')"
   ]
  },
  {
   "cell_type": "markdown",
   "metadata": {},
   "source": [
    "## 1.1: Let's do the same thing without using PODPAC"
   ]
  },
  {
   "cell_type": "markdown",
   "metadata": {},
   "source": [
    "### 1.1.0: First create an authenticated session"
   ]
  },
  {
   "cell_type": "code",
   "execution_count": null,
   "metadata": {},
   "outputs": [],
   "source": [
    "# First create an authenticated session\n",
    "import requests\n",
    "class SessionWithHeaderRedirection(requests.Session):\n",
    "    \"\"\"\n",
    "    Modified from: https://wiki.earthdata.nasa.gov/display/EL/How+To+Access+Data+With+Python\n",
    "    overriding requests.Session.rebuild_auth to mantain headers when redirected\n",
    "    \n",
    "    Attributes\n",
    "    ----------\n",
    "    auth : tuple\n",
    "        (username, password) string in plain text\n",
    "    AUTH_HOST : str\n",
    "        Host address (eg. http://example.com) that gets authenticated\n",
    "    \"\"\"\n",
    "\n",
    "    AUTH_HOST = 'urs.earthdata.nasa.gov'\n",
    "\n",
    "    def __init__(self, username=None, password=None):\n",
    "        '''\n",
    "        Parameters\n",
    "        ------------\n",
    "        username: str, optional\n",
    "            Username used for authentication. \n",
    "        password: str\n",
    "            Password used for authentication. \n",
    "        '''\n",
    "        super(SessionWithHeaderRedirection, self).__init__()\n",
    "        self.auth = (username, password)\n",
    "\n",
    "    \n",
    "    def rebuild_auth(self, prepared_request, response):\n",
    "        \"\"\"\n",
    "        Overrides from the library to keep headers when redirected to or from\n",
    "        the NASA auth host.\n",
    "        \"\"\"\n",
    "        headers = prepared_request.headers\n",
    "        url = prepared_request.url\n",
    "\n",
    "        if 'Authorization' in headers:\n",
    "            original_parsed = requests.utils.urlparse(response.request.url)\n",
    "            redirect_parsed = requests.utils.urlparse(url)\n",
    "\n",
    "            if (original_parsed.hostname != redirect_parsed.hostname) and \\\n",
    "                    redirect_parsed.hostname != self.AUTH_HOST and \\\n",
    "                    original_parsed.hostname != self.AUTH_HOST:\n",
    "                del headers['Authorization']\n",
    "\n",
    "        return\n",
    "\n",
    "auth_session = SessionWithHeaderRedirection(username=username, password=password)"
   ]
  },
  {
   "cell_type": "markdown",
   "metadata": {},
   "source": [
    "### 1.1.1: Now get the data using pydap\n",
    "#### 1.1.1.0: Open the dataset and get the correct key"
   ]
  },
  {
   "cell_type": "code",
   "execution_count": null,
   "metadata": {},
   "outputs": [],
   "source": [
    "import pydap.client\n",
    "# The user needs to know/construct this url. Note the version number Vv4030_001 may change unexpectedly\n",
    "source = ('https://n5eil01u.ecs.nsidc.org:443/opendap'\n",
    "          '/SMAP/SPL4SMAU.004/2018.05.19'\n",
    "          '/SMAP_L4_SM_aup_20180519T120000_Vv4030_001.h5')\n",
    "# This line is needed for an initial authentication\n",
    "auth_session.get(source + '.dds')  \n",
    "dataset = pydap.client.open_url(source, session=auth_session)\n",
    "print (str(dataset.keys).replace(',', '\\n'))"
   ]
  },
  {
   "cell_type": "markdown",
   "metadata": {},
   "source": [
    "### 1.1.1.1: Select the correct key and retrieve the data along with the correct coordinates"
   ]
  },
  {
   "cell_type": "code",
   "execution_count": null,
   "metadata": {},
   "outputs": [],
   "source": [
    "key = 'Analysis_Data_sm_surface_analysis'\n",
    "lat_key = 'cell_lat'\n",
    "lon_key = 'cell_lon'\n",
    "data = dataset[key][:]\n",
    "# Replace no number values with nan's\n",
    "data[data == -9999] = np.nan\n",
    "lat = dataset[lat_key][:]\n",
    "lon = dataset[lon_key][:]\n",
    "print (data.shape, lat.shape, lon.shape)"
   ]
  },
  {
   "cell_type": "markdown",
   "metadata": {},
   "source": [
    "### 1.1.2: Do a nearest neighbor interpolation onto the desired grid and plot"
   ]
  },
  {
   "cell_type": "code",
   "execution_count": null,
   "metadata": {},
   "outputs": [],
   "source": [
    "import xarray as xr\n",
    "grid_lat = np.linspace(90, -90, 91)\n",
    "grid_lon = np.linspace(-180, 180, 181)\n",
    "data_arr = xr.DataArray(data, dims=['lat', 'lon'], coords=[lat[:, 0], lon[0, :]])\n",
    "data_grid = data_arr.reindex({'lat': grid_lat, 'lon': grid_lon}, method='nearest')\n",
    "figure()\n",
    "data_grid.plot(cmap='gist_earth_r')\n",
    "axis('scaled')"
   ]
  },
  {
   "cell_type": "markdown",
   "metadata": {},
   "source": [
    "# 2: Retrieve and plot SMAP data for:\n",
    "## * A date range\n",
    "## * With user-specified lat-lon points\n",
    "## 2.0: Using PODPAC"
   ]
  },
  {
   "cell_type": "code",
   "execution_count": null,
   "metadata": {},
   "outputs": [],
   "source": [
    "# Look at a list of points\n",
    "lat_lon_pts = [\n",
    "    (  45.0, 45.0,  0.0, 45.0),  # Lat\n",
    "    (-100.0, 20.0, 20.0, 100.0), # Lon\n",
    "]\n",
    "\n",
    "# Turn the list into a numpy array\n",
    "lat_lon_pts = np.array(lat_lon_pts)\n",
    "\n",
    "# Let's plot the points\n",
    "figure()\n",
    "o.plot(cmap='gist_earth_r')\n",
    "plot(lat_lon_pts[1], lat_lon_pts[0], 'ro')"
   ]
  },
  {
   "cell_type": "code",
   "execution_count": null,
   "metadata": {},
   "outputs": [],
   "source": [
    "c_pts = podpac.Coordinates([lat_lon_pts,\n",
    "                            podpac.crange('2018-05-15T00', '2018-05-19T00', '3,h')], \n",
    "                            dims=['lat_lon', 'time']\n",
    "                            )\n",
    "sm.threaded = True; sm.n_threads = 6\n",
    "ot = sm.execute(c_pts)\n",
    "sm.threaded = False"
   ]
  },
  {
   "cell_type": "code",
   "execution_count": null,
   "metadata": {},
   "outputs": [],
   "source": [
    "figure()\n",
    "plot(ot.time, ot.data.T)\n",
    "legend([str(llp) for llp in lat_lon_pts.T])\n",
    "locs, labels = xticks()\n",
    "xticks(locs[::2])"
   ]
  },
  {
   "cell_type": "markdown",
   "metadata": {},
   "source": [
    "## 2.1: Without using PODPAC?"
   ]
  },
  {
   "cell_type": "markdown",
   "metadata": {},
   "source": [
    "### 2.1.0: Find the names of the source files"
   ]
  },
  {
   "cell_type": "code",
   "execution_count": null,
   "metadata": {},
   "outputs": [],
   "source": [
    "# I'm using PODPAC to help out\n",
    "_, date_source_inds = sm.source_coordinates.intersect(c_pts, return_indices=True)\n",
    "date_sources = sm.sources[date_source_inds]\n",
    "sources = []\n",
    "for ds in date_sources:\n",
    "    _, inds = ds.source_coordinates.intersect(c_pts, return_indices=True)\n",
    "    sources.append(ds.sources[inds])\n",
    "sources = np.concatenate(sources)\n",
    "print(len(sources))\n",
    "source_urls = []\n",
    "for s in sources:\n",
    "    source_urls.append(s.source)\n",
    "    print(source_urls[-1])"
   ]
  },
  {
   "cell_type": "markdown",
   "metadata": {},
   "source": [
    "### 2.1.1 Find the nearest neighbor index for lat and lon for each point"
   ]
  },
  {
   "cell_type": "code",
   "execution_count": null,
   "metadata": {},
   "outputs": [],
   "source": [
    "dataset = pydap.client.open_url(source_urls[0], session=auth_session)\n",
    "key = 'Analysis_Data_sm_surface_analysis'\n",
    "lat_key = 'cell_lat'\n",
    "lon_key = 'cell_lon'\n",
    "lat = dataset[lat_key][:]\n",
    "lon = dataset[lon_key][:]"
   ]
  },
  {
   "cell_type": "code",
   "execution_count": null,
   "metadata": {},
   "outputs": [],
   "source": [
    "inds = []\n",
    "for pt in lat_lon_pts.T:\n",
    "    lat_ind = np.argmin(np.abs(lat[:, 0] - pt[0]))\n",
    "    lon_ind = np.argmin(np.abs(lon[0, :] - pt[1]))\n",
    "    inds.append((lat_ind, lon_ind))\n",
    "inds"
   ]
  },
  {
   "cell_type": "markdown",
   "metadata": {},
   "source": [
    "### 2.1.2: Loop through all the sources and retrieve the data"
   ]
  },
  {
   "cell_type": "code",
   "execution_count": null,
   "metadata": {},
   "outputs": [],
   "source": [
    "# This takes longer than before because there is no threading\n",
    "data = []\n",
    "for s in source_urls:\n",
    "    dataset = pydap.client.open_url(s, session=auth_session)\n",
    "    date_data = [dataset[key][int(ind[0]), int(ind[1])].item() for ind in inds]\n",
    "    data.append(date_data)"
   ]
  },
  {
   "cell_type": "markdown",
   "metadata": {},
   "source": [
    "### 2.1.3: Plot the results"
   ]
  },
  {
   "cell_type": "code",
   "execution_count": null,
   "metadata": {},
   "outputs": [],
   "source": [
    "figure()\n",
    "plot(data)\n",
    "legend([str(llp) for llp in lat_lon_pts.T])"
   ]
  },
  {
   "cell_type": "markdown",
   "metadata": {},
   "source": [
    "# 3: Retrieve and plot SMAP data for:\n",
    "## * A particular date \n",
    "## * Over lat-lon range with underlying, native SMAP coordinates\n",
    "## 3.0: Define a lat-lon bounding box for retrieving SMAP data"
   ]
  },
  {
   "cell_type": "code",
   "execution_count": null,
   "metadata": {
    "collapsed": true
   },
   "outputs": [],
   "source": [
    "bbox = podpac.Coordinates([              # (start, stop, number)\n",
    "                           podpac.clinspace(   49,   25, 2),  # lat\n",
    "                           podpac.clinspace( -126,  -66, 2),  # lon\n",
    "                          ], dims=['lat', 'lon']\n",
    ")"
   ]
  },
  {
   "cell_type": "markdown",
   "metadata": {},
   "source": [
    "## 3.1: Get native coordinates of the SMAP data"
   ]
  },
  {
   "cell_type": "code",
   "execution_count": null,
   "metadata": {
    "collapsed": false
   },
   "outputs": [],
   "source": [
    "# !!!!! This next line will take awhile first time it is run\n",
    "sm_nc = sm.native_coordinates\n",
    "sm_nc"
   ]
  },
  {
   "cell_type": "code",
   "execution_count": null,
   "metadata": {
    "collapsed": false
   },
   "outputs": [],
   "source": [
    "# Get the SMAP native coordinates in the desired bounding box\n",
    "c_intersect = sm_nc.intersect(bbox)\n",
    "c_intersect = c_intersect.drop('time')\n",
    "c_intersect"
   ]
  },
  {
   "cell_type": "markdown",
   "metadata": {},
   "source": [
    "## 3.2: Select a specific date and time"
   ]
  },
  {
   "cell_type": "code",
   "execution_count": null,
   "metadata": {
    "collapsed": false
   },
   "outputs": [],
   "source": [
    "c = podpac.coordinates.merge_dims([podpac.Coordinates.grid(time='2017-04-30T21:00:00'), c_intersect])\n",
    "c"
   ]
  },
  {
   "cell_type": "markdown",
   "metadata": {},
   "source": [
    "## 3.3: Retrieve and plot the data"
   ]
  },
  {
   "cell_type": "code",
   "execution_count": null,
   "metadata": {},
   "outputs": [],
   "source": [
    "o = sm.execute(c)\n",
    "figure()\n",
    "o.plot(cmap='gist_earth_r')\n",
    "axis('scaled')"
   ]
  },
  {
   "cell_type": "markdown",
   "metadata": {},
   "source": [
    "# 4: Export a pipeline for re-use elsewhere"
   ]
  },
  {
   "cell_type": "code",
   "execution_count": null,
   "metadata": {},
   "outputs": [],
   "source": [
    "print(sm.json)"
   ]
  }
 ],
 "metadata": {
  "kernelspec": {
   "display_name": "Python 3",
   "language": "python",
   "name": "python3"
  },
  "language_info": {
   "codemirror_mode": {
    "name": "ipython",
    "version": 3
   },
   "file_extension": ".py",
   "mimetype": "text/x-python",
   "name": "python",
   "nbconvert_exporter": "python",
   "pygments_lexer": "ipython3",
   "version": "3.6.3"
  }
 },
 "nbformat": 4,
 "nbformat_minor": 2
}
