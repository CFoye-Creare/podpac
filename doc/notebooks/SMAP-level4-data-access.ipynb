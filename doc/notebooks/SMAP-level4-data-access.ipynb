{
 "cells": [
  {
   "cell_type": "code",
   "execution_count": 14,
   "metadata": {
    "collapsed": true
   },
   "outputs": [
    {
     "name": "stdout",
     "output_type": "stream",
     "text": [
      "Populating the interactive namespace from numpy and matplotlib\n"
     ]
    }
   ],
   "source": [
    "# Set up interactive plotting using matplotlib, and load numpy\n",
    "%pylab ipympl\n",
    "import warnings\n",
    "warnings.filterwarnings('ignore')"
   ]
  },
  {
   "cell_type": "markdown",
   "metadata": {},
   "source": [
    "# Import PODPAC dependencies"
   ]
  },
  {
   "cell_type": "code",
   "execution_count": 15,
   "metadata": {
    "collapsed": true
   },
   "outputs": [],
   "source": [
    "import podpac\n",
    "from podpac.datalib import smap"
   ]
  },
  {
   "cell_type": "markdown",
   "metadata": {},
   "source": [
    "# Provide Earth Data Login Credentials\n",
    "If you do not have an earth data login, follow the [instructions here](https://creare-com.github.io/podpac-docs/user/earthdata.html)"
   ]
  },
  {
   "cell_type": "code",
   "execution_count": 3,
   "metadata": {
    "collapsed": false
   },
   "outputs": [],
   "source": [
    "import getpass\n",
    "username = input(\"Username:\");   password = getpass.getpass('Password:')"
   ]
  },
  {
   "cell_type": "markdown",
   "metadata": {},
   "source": [
    "# Create the PODPAC SMAP Node"
   ]
  },
  {
   "cell_type": "code",
   "execution_count": 16,
   "metadata": {
    "collapsed": false
   },
   "outputs": [],
   "source": [
    "# Create the SMAP node\n",
    "product = 'SPL4SMAU.003'   # Level 4 soil moisture analysis update\n",
    "sm = smap.SMAP(product=product, interpolation='nearest', username=username, password=password)"
   ]
  },
  {
   "cell_type": "markdown",
   "metadata": {},
   "source": [
    "# Retrieve and plot SMAP data for:\n",
    "## * A particular date\n",
    "## * Over lat-lon range with user-specified grid"
   ]
  },
  {
   "cell_type": "code",
   "execution_count": 17,
   "metadata": {},
   "outputs": [
    {
     "data": {
      "application/vnd.jupyter.widget-view+json": {
       "model_id": "b376ed710ca34e6aa81a8abc7b0ef06d",
       "version_major": 2,
       "version_minor": 0
      },
      "text/plain": [
       "FigureCanvasNbAgg()"
      ]
     },
     "metadata": {},
     "output_type": "display_data"
    },
    {
     "data": {
      "text/plain": [
       "(-181.0, 181.0, -91.0, 91.0)"
      ]
     },
     "execution_count": 17,
     "metadata": {},
     "output_type": "execute_result"
    }
   ],
   "source": [
    "c_world = podpac.Coordinate(#dim=(start, stop, step)\n",
    "                             lat=(   90,  -90,-2.0),\n",
    "                             lon=( -180,  180, 2.0), \n",
    "                             time='2018-05-19T12:00:00')\n",
    "o = sm.execute(c_world)\n",
    "figure()\n",
    "o.plot()\n",
    "axis('scaled')"
   ]
  },
  {
   "cell_type": "markdown",
   "metadata": {},
   "source": [
    "# Retrieve and plot SMAP data for:\n",
    "## * A date range\n",
    "## * With user-specified lat-lon points"
   ]
  },
  {
   "cell_type": "code",
   "execution_count": 18,
   "metadata": {},
   "outputs": [
    {
     "data": {
      "text/plain": [
       "[<matplotlib.lines.Line2D at 0x7fca75ae2ef0>]"
      ]
     },
     "execution_count": 18,
     "metadata": {},
     "output_type": "execute_result"
    }
   ],
   "source": [
    "lat_lon_pts = np.array([[45.0, -100],\n",
    "                        [45.0, 4],\n",
    "                        [0.0, 25],\n",
    "                        [45.0, 100.]]).T\n",
    "plot(lat_lon_pts[1], lat_lon_pts[0], 'ro')"
   ]
  },
  {
   "cell_type": "code",
   "execution_count": 20,
   "metadata": {},
   "outputs": [],
   "source": [
    "c_pts = podpac.Coordinate(lat_lon=lat_lon_pts,\n",
    "                         time=('2018-05-15T00', '2018-05-19T00', '3,h')\n",
    "                         )\n",
    "sm.threaded = True; sm.n_threads = 8\n",
    "o = sm.execute(c_pts)\n",
    "sm.threaded = False"
   ]
  },
  {
   "cell_type": "code",
   "execution_count": 21,
   "metadata": {},
   "outputs": [
    {
     "data": {
      "application/vnd.jupyter.widget-view+json": {
       "model_id": "4fd8546497724ad8bde546d564933cee",
       "version_major": 2,
       "version_minor": 0
      },
      "text/plain": [
       "FigureCanvasNbAgg()"
      ]
     },
     "metadata": {},
     "output_type": "display_data"
    },
    {
     "data": {
      "text/plain": [
       "([<matplotlib.axis.XTick at 0x7fca740656d8>,\n",
       "  <matplotlib.axis.XTick at 0x7fca740689b0>,\n",
       "  <matplotlib.axis.XTick at 0x7fca74048588>,\n",
       "  <matplotlib.axis.XTick at 0x7fca7403b5c0>,\n",
       "  <matplotlib.axis.XTick at 0x7fca7403ba90>],\n",
       " <a list of 5 Text xticklabel objects>)"
      ]
     },
     "execution_count": 21,
     "metadata": {},
     "output_type": "execute_result"
    }
   ],
   "source": [
    "figure()\n",
    "plot(o.time, o.data.T)\n",
    "legend([str(llp) for llp in lat_lon_pts.T])\n",
    "locs, labels = xticks()\n",
    "xticks(locs[::2])"
   ]
  },
  {
   "cell_type": "markdown",
   "metadata": {},
   "source": [
    "# Retrieve and plot SMAP data for:\n",
    "## * A particular date \n",
    "## * Over lat-lon range with underlying, native SMAP coordinates\n",
    "### Define a lat-lon bounding box for retrieving SMAP data"
   ]
  },
  {
   "cell_type": "code",
   "execution_count": 9,
   "metadata": {
    "collapsed": true
   },
   "outputs": [],
   "source": [
    "bbox = podpac.Coordinate(#dim=(start, stop, number)\n",
    "                          lat=(   49,   25, 2),\n",
    "                          lon=( -126,  -66, 2))"
   ]
  },
  {
   "cell_type": "markdown",
   "metadata": {},
   "source": [
    "### Get native coordinates of the SMAP data"
   ]
  },
  {
   "cell_type": "code",
   "execution_count": 10,
   "metadata": {
    "collapsed": false
   },
   "outputs": [
    {
     "data": {
      "text/plain": [
       "Coordinate\n",
       "\ttime: MonotonicCoord: Bounds[2015-03-31T03:00:00, 2018-06-05T00:00:00], N[9296], ctype[\"segment\"]\n",
       "\tlat: MonotonicCoord: Bounds[-84.65644073486328, 84.65644073486328], N[1624], ctype[\"segment\"]\n",
       "\tlon: MonotonicCoord: Bounds[-179.95474243164062, 179.95474243164062], N[3856], ctype[\"segment\"]"
      ]
     },
     "execution_count": 10,
     "metadata": {},
     "output_type": "execute_result"
    }
   ],
   "source": [
    "# !!!!! This next line will take a while first time it is run\n",
    "sm_nc = sm.native_coordinates\n",
    "sm_nc"
   ]
  },
  {
   "cell_type": "code",
   "execution_count": 11,
   "metadata": {
    "collapsed": false
   },
   "outputs": [
    {
     "data": {
      "text/plain": [
       "Coordinate\n",
       "\tlat: MonotonicCoord: Bounds[24.945680618286133, 49.05809783935547], N[273], ctype[\"segment\"]\n",
       "\tlon: MonotonicCoord: Bounds[-126.08280944824219, -65.96044921875], N[645], ctype[\"segment\"]"
      ]
     },
     "execution_count": 11,
     "metadata": {},
     "output_type": "execute_result"
    }
   ],
   "source": [
    "# Get the SMAP native coordinates in the desired bounding box\n",
    "c_intersect = sm_nc.intersect(bbox)\n",
    "c_intersect.drop_dims('time')\n",
    "c_intersect"
   ]
  },
  {
   "cell_type": "markdown",
   "metadata": {},
   "source": [
    "### Select a specific date and time"
   ]
  },
  {
   "cell_type": "code",
   "execution_count": 12,
   "metadata": {
    "collapsed": false
   },
   "outputs": [
    {
     "data": {
      "text/plain": [
       "Coordinate\n",
       "\ttime: MonotonicCoord: Bounds[2017-04-30T21:00:00, 2017-04-30T21:00:00], N[1], ctype[\"segment\"]\n",
       "\tlat: MonotonicCoord: Bounds[24.945680618286133, 49.05809783935547], N[273], ctype[\"segment\"]\n",
       "\tlon: MonotonicCoord: Bounds[-126.08280944824219, -65.96044921875], N[645], ctype[\"segment\"]"
      ]
     },
     "execution_count": 12,
     "metadata": {},
     "output_type": "execute_result"
    }
   ],
   "source": [
    "c = podpac.Coordinate(time='2017-04-30T21:00:00') + c_intersect\n",
    "c"
   ]
  },
  {
   "cell_type": "markdown",
   "metadata": {},
   "source": [
    "### Retrieve and plot the data"
   ]
  },
  {
   "cell_type": "code",
   "execution_count": 13,
   "metadata": {},
   "outputs": [
    {
     "data": {
      "application/vnd.jupyter.widget-view+json": {
       "model_id": "09585e42bea34f83873c3d196fe39db4",
       "version_major": 2,
       "version_minor": 0
      },
      "text/plain": [
       "FigureCanvasNbAgg()"
      ]
     },
     "metadata": {},
     "output_type": "display_data"
    },
    {
     "data": {
      "text/plain": [
       "(-126.12966918945312,\n",
       " -65.91362762451172,\n",
       " 24.906822204589844,\n",
       " 49.111507415771484)"
      ]
     },
     "execution_count": 13,
     "metadata": {},
     "output_type": "execute_result"
    }
   ],
   "source": [
    "o = sm.execute(c)\n",
    "figure()\n",
    "o.plot()\n",
    "axis('scaled')"
   ]
  },
  {
   "cell_type": "code",
   "execution_count": null,
   "metadata": {},
   "outputs": [],
   "source": []
  }
 ],
 "metadata": {
  "kernelspec": {
   "display_name": "podpac",
   "language": "python",
   "name": "podpac"
  },
  "language_info": {
   "codemirror_mode": {
    "name": "ipython",
    "version": 3
   },
   "file_extension": ".py",
   "mimetype": "text/x-python",
   "name": "python",
   "nbconvert_exporter": "python",
   "pygments_lexer": "ipython3",
   "version": "3.6.6"
  }
 },
 "nbformat": 4,
 "nbformat_minor": 2
}
